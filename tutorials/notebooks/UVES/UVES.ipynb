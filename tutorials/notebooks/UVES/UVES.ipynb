{
 "cells": [
  {
   "cell_type": "markdown",
   "metadata": {},
   "source": [
    "# Analyzing UVES Spectroscopy with Astropy\n",
   ]
  },
  {
   "cell_type": "markdown",
   "metadata": {},
   "source": [
    "## Authors:\n",
    "Moritz Guenther, Miguel de Val-Borro, Emily Rice (Learning Goals & formatting)\n",
    "\n",
    "## Learning Goals\n",
    "* *Input/Output*: Read in spectral data from a list of FITS files using [`astropy.io`](http://docs.astropy.org/en/stable/io/fits/index.html) and [`astropy.wcs`](http://docs.astropy.org/en/stable/wcs/index.html)\n",
    "* *Coding*: Make code reusable as a function\n",
    "* *Analysis*: Analyze spectral data using [`astropy.units`](http://docs.astropy.org/en/stable/units/index.html),  [`astropy.constants`](http://docs.astropy.org/en/stable/constants/index.html), and [`astropy.time`](http://docs.astropy.org/en/stable/time/index.html)\n",
    "* *Input/Output*: Generate a LaTeX table using [`astropy.table`](http://docs.astropy.org/en/stable/table/index.html)\n",
    "* *Visualization*: Plot spectral data using [`matplotlib`](https://matplotlib.org/) \n",
    "\n",
    "## Keywords:\n",
    "astropy.io, astropy.wcs, astropy.units, astropy.constants, astropy.time, astropy.table, matplotlib, spectra, UVES\n",
    "\n",
    "This tutorial follows my real live data analysis of MN Lup and the code developed\n",
    "below is taken (with only minor modifications) from the code that I used to\n",
    "actually prepare the publication. The plots that will be developed below\n",
    "appear in very similar form in the article published in\n",
    "[ApJ, 771, 1, 70](http://adsabs.harvard.edu/abs/2013ApJ...771...70G).\n",
    "\n",
    "The examples below depend on each other and the plots in the last section make\n",
    "use of things calculated in the earlier sections. Thus, if you need to restart\n",
    "your python session in the course of this tutorial, please execute all the code\n",
    "again.\n",
    "\n",
    "Also, this tutorial works best if you follow along and execute the code shown\n",
    "on your own computer. The page is already quite long and I do not include the\n",
    "output you would see on your screen in this document."
   ]
  },
  {
   "cell_type": "markdown",
   "metadata": {},
   "source": [
    "## Acknowledgments"
   ]
  },
  {
   "cell_type": "markdown",
   "metadata": {},
   "source": [
    "License: This tutorial is made available under the terms of the\n",
    "[Creative Commons Attribution 3.0 License](http://creativecommons.org/licenses/by/3.0/)\n",
    "\n",
    "## Authors\n",
    "Moritz Guenther, Miguel de Val-Borro\n",
    "\n",
    "## Learning Goals\n",
    "* TODO\n",
    "\n",
    "## Keywords\n",
    "matplotlib, file input/output, wcs, units, FITS image\n",
    "\n",
    "## Summary\n",
    "This tutorial follows real live data analysis of MN Lup and the code developed\n",
    "below is taken (with only minor modifications) from the code used to\n",
    "actually prepare the publication. The plots that will be developed below\n",
    "appear in very similar form in the article published in\n",
    "[ApJ, 771, 1, 70](http://adsabs.harvard.edu/abs/2013ApJ...771...70G).\n",
    "\n",
    "The examples below depend on each other and the plots in the last section make\n",
    "use of things calculated in the earlier sections. Thus, if you need to restart\n",
    "your python session in the course of this tutorial, please execute all the code\n",
    "again.\n",
    "\n",
    "This tutorial works best if you follow along and execute the code shown\n",
    "on your own computer. The page is already quite long and the\n",
    "output you would see on your screen in this document is not included.\n",
    "\n",
    "## Acknowledgments\n",
    "License: This tutorial is made available under the terms of the\n",
    "[Creative Commons Attribution 3.0 License](http://creativecommons.org/licenses/by/3.0/)\n",
    "\n",
    "Copyright: 2013 - 2015 Moritz Guenther, Miguel de Val-Borro\n",
    "\n",
    "Based on observations made with ESO Telescopes at the La Silla Paranal Observatory\n",
    "under program ID 087.V0991(A)."
   ]
  },
  {
   "cell_type": "markdown",
   "metadata": {},
   "source": [
    "## Before you proceed"
   ]
  },
  {
   "cell_type": "code",
   "execution_count": 41,
   "metadata": {},
   "outputs": [],
   "source": [
    "# Set up matplotlib\n",
    "import matplotlib.pyplot as plt\n",
    "%matplotlib inline"
   ]
  },
  {
   "cell_type": "markdown",
   "metadata": {},
   "source": [
    "Download the tar file and extract the files by executing the python code below. Executing this block will download and extract a tar file with data necessary for this tutorial. By default it will run in whatever directory you have placed this notebook. If that's some place you don't want to fill with data files, change the `working_dir_path` variable."
   ]
  },
  {
   "cell_type": "code",
   "execution_count": 1,
   "metadata": {},
   "outputs": [
    {
     "name": "stdout",
     "output_type": "stream",
     "text": [
      "Downloading http://data.astropy.org/tutorials/UVES/data_UVES.tar.gz [Done]\n"
     ]
    }
   ],
   "source": [
    "import tarfile\n",
    "from astropy.utils.data import download_file\n",
    "url = 'http://data.astropy.org/tutorials/UVES/data_UVES.tar.gz'\n",
    "f = tarfile.open(download_file(url, cache=True), mode='r|*')\n",
    "working_dir_path = '.'  # CHANGE TO WHEREVER YOU WANT THE DATA TO BE EXTRACTED\n",
    "f.extractall(path=working_dir_path)"
   ]
  },
  {
   "cell_type": "markdown",
   "metadata": {},
   "source": [
    "## Scientific background"
   ]
  },
  {
   "cell_type": "markdown",
   "metadata": {},
   "source": [
    "In this tutorial we analyze data from MN Lup, a T Tauri star in the\n",
    "Taurus-Auriga star forming region located at a distance of about 140 pc. MN Lup\n",
    "has been observed simultaneously with XMM-Newton and the UVES spectrograph on the\n",
    "VLT. MN Lup is suspected to be a classical T Tauri star, that is accreting mass\n",
    "from a circumstellar disk. MN Lup has been Doppler imaged by\n",
    "[Strassmeier et al. 2005](http://adsabs.harvard.edu/abs/2005A%26A...440.1105S)\n",
    "with a very similar UVES setup and those authors claim an rotationally modulated\n",
    "accretion spot.\n",
    "\n",
    "In the X-ray data we find moderate indications for accretion. In this\n",
    "tutorial we analyze (some of) the UVES data to search for rotationally modulated\n",
    "features in the emission line profiles, which could be due to an accretion spot\n",
    "on the stellar surface."
   ]
  },
  {
   "cell_type": "markdown",
   "metadata": {},
   "source": [
    "## Reading the data"
   ]
  },
  {
   "cell_type": "markdown",
   "metadata": {},
   "source": [
    "A previous Astropy tutorial already covered\n",
    "[handling FITS files](../FITS-header.html) and WCS transformations, so the explanation here\n",
    "is only very brief. Check the [astropy documentation](http://docs.astropy.org)\n",
    "or the other two tutorials for more details:"
   ]
  },
  {
   "cell_type": "code",
   "execution_count": 2,
   "metadata": {},
   "outputs": [
    {
     "name": "stdout",
     "output_type": "stream",
     "text": [
      "./UVES/*.fits\n"
     ]
    }
   ],
   "source": [
    "from glob import glob\n",
    "import os\n",
    "\n",
    "import numpy as np\n",
    "\n",
    "from astropy.wcs import WCS\n",
    "from astropy.io import fits\n",
    "\n",
    "# os.path.join is a platform-independent way to join two directories\n",
    "globpath = os.path.join(working_dir_path, 'UVES/*.fits')\n",
    "\n",
    "print(globpath)\n",
    "# glob searches through directories similar to the Unix shell\n",
    "filelist = glob(globpath)\n",
    "\n",
    "# sort alphabetically - given the way the filenames are\n",
    "# this also sorts in time\n",
    "filelist.sort()"
   ]
  },
  {
   "cell_type": "markdown",
   "metadata": {},
   "source": [
    "Read the first FITS file in the list and check what is in there:"
   ]
  },
  {
   "cell_type": "code",
   "execution_count": 3,
   "metadata": {},
   "outputs": [
    {
     "name": "stdout",
     "output_type": "stream",
     "text": [
      "Filename: ./UVES/r.UVES.2011-08-11T232352.266-A01_0000.fits\n",
      "No.    Name      Ver    Type      Cards   Dimensions   Format\n",
      "  0  PRIMARY       1 PrimaryHDU     609   (42751,)   float32   \n"
     ]
    }
   ],
   "source": [
    "sp = fits.open(filelist[0])\n",
    "sp.info()"
   ]
  },
  {
   "cell_type": "markdown",
   "metadata": {},
   "source": [
    "We see that the data is given as the primary image and all other info is\n",
    "part of the primary header. So, we can extract the WCS from that header\n",
    "to get the wavelength coordinate.\n",
    "If you see warnings about a non-standard RADECSYS, don't worry\n",
    "about this -- the WCS will still work, it just doesn't\n",
    "fully conform to the WCS standard."
   ]
  },
  {
   "cell_type": "code",
   "execution_count": 5,
   "metadata": {},
   "outputs": [],
   "source": [
    "header = sp[0].header\n",
    "\n",
    "wcs = WCS(header)\n",
    "#make index array\n",
    "index = np.arange(header['NAXIS1'])\n",
    "\n",
    "wavelength = wcs.wcs_pix2world(index[:,np.newaxis], 0)\n",
    "wavelength.shape\n",
    "#Ahh, this has the wrong dimension. So we flatten it.\n",
    "wavelength = wavelength.flatten()"
   ]
  },
  {
   "cell_type": "markdown",
   "metadata": {},
   "source": [
    "The flux is contained in the primary image."
   ]
  },
  {
   "cell_type": "code",
   "execution_count": 8,
   "metadata": {},
   "outputs": [
    {
     "name": "stdout",
     "output_type": "stream",
     "text": [
      "[0. 0. 0. ... 0. 0. 0.]\n"
     ]
    }
   ],
   "source": [
    "flux = sp[0].data\n",
    "print(flux)"
   ]
  },
  {
   "cell_type": "markdown",
   "metadata": {},
   "source": [
    "## Making code reusable as a function"
   ]
  },
  {
   "cell_type": "markdown",
   "metadata": {},
   "source": [
    "Now, we don't want to repeat this process for every single file by hand,\n",
    "so let's define a function that takes the filename as input and returns\n",
    "the wavelength and flux arrays and the time of the observation.\n",
    "In python, functions are created with the ``def`` statements.\n",
    "All lines that have an indentation level below the `def` statement are part\n",
    "of the function. Functions can (but do not have to) return values using\n",
    "the ``return`` statement.\n",
    "\n",
    "If a function ``func`` is contained in a file called ``spectra_utils.py`` in\n",
    "the current directory, then this file can be imported into a python session in\n",
    "order to use the function `func` with the following command:\n",
    "\n",
    "```import spectra_utils\n",
    "a = spectra_utils.func(param1, param2, ...)```\n",
    "\n",
    "Alternatively, you can import just one (or a few) of many different functions\n",
    "that are defined in your file ``spectra_utils.py``:\n",
    "\n",
    "```from spectra_utils import func\n",
    "a = func(param1, param2, ...)```\n",
    "\n",
    "You'll recognize that python does not make a difference between modules that come\n",
    "with python (e.g. `glob`), external modules (e.g. `numpy` or `astropy`) and modules\n",
    "that you write yourself. The syntax to import those modules or functions\n",
    "is the same in all cases, provided that the directory where your module is\n",
    "defined is in the search path [more about python modules and the search path](http://docs.python.org/2/tutorial/modules.html)."
   ]
  },
  {
   "cell_type": "markdown",
   "metadata": {},
   "source": [
    "Once you used ``import spectra_utils`` python will not monitor the source file.\n",
    "If you change the source code of ``func`` in the file, you'll need to\n",
    "``reload(spectra_utils)`` to load the new version of ``func``.\n",
    "\n",
    "So, after all this discussion, we can now define a function that automates the\n",
    "loading of a single spectrum using the commands we developed above. Even if\n",
    "this function is fairly short, we still add some documentation to the header,\n",
    "so that we can look up what parameters it needs when we come back to this\n",
    "project a while later. We like to comment every function that is longer\n",
    "than two lines."
   ]
  },
  {
   "cell_type": "code",
   "execution_count": 9,
   "metadata": {},
   "outputs": [],
   "source": [
    "def read_spec(filename):\n",
    "    '''Read a UVES spectrum from the ESO pipeline\n",
    "\n",
    "    Parameters\n",
    "    ----------\n",
    "    filename : string\n",
    "    name of the fits file with the data\n",
    "\n",
    "    Returns\n",
    "    -------\n",
    "    wavelength : np.ndarray\n",
    "    wavelength (in Ang)\n",
    "    flux : np.ndarray\n",
    "    flux (in erg/s/cm**2)\n",
    "    date_obs : string\n",
    "    time of observation\n",
    "    '''\n",
    "    sp = fits.open(filename)\n",
    "    header = sp[0].header\n",
    "\n",
    "    wcs = WCS(header)\n",
    "    #make index array\n",
    "    index = np.arange(header['NAXIS1'])\n",
    "\n",
    "    wavelength = wcs.wcs_pix2world(index[:,np.newaxis], 0)\n",
    "    wavelength = wavelength.flatten()\n",
    "    flux = sp[0].data\n",
    "\n",
    "    date_obs = header['Date-OBS']\n",
    "    return wavelength, flux, date_obs"
   ]
  },
  {
   "cell_type": "markdown",
   "metadata": {},
   "source": [
    "### Exercise"
   ]
  },
  {
   "cell_type": "markdown",
   "metadata": {},
   "source": [
    "Try to find out how you can read the help for this function from the\n",
    "command line."
   ]
  },
  {
   "cell_type": "code",
   "execution_count": 10,
   "metadata": {},
   "outputs": [
    {
     "name": "stdout",
     "output_type": "stream",
     "text": [
      "Help on function read_spec in module __main__:\n",
      "\n",
      "read_spec(filename)\n",
      "    Read a UVES spectrum from the ESO pipeline\n",
      "    \n",
      "    Parameters\n",
      "    ----------\n",
      "    filename : string\n",
      "    name of the fits file with the data\n",
      "    \n",
      "    Returns\n",
      "    -------\n",
      "    wavelength : np.ndarray\n",
      "    wavelength (in Ang)\n",
      "    flux : np.ndarray\n",
      "    flux (in erg/s/cm**2)\n",
      "    date_obs : string\n",
      "    time of observation\n",
      "\n"
     ]
    }
   ],
   "source": [
    "help(read_spec)\n",
    "# or\n",
    "read_spec?\n",
    "# In the IPython notebook, the easiest way to see the help for a function is to type read_spec<TAB>"
   ]
  },
  {
   "cell_type": "markdown",
   "metadata": {},
   "source": [
    "### Exercise"
   ]
  },
  {
   "cell_type": "markdown",
   "metadata": {},
   "source": [
    "The dataset of UVES spectra should have been taken using all the same setup.\n",
    "Write a function that returns the exposure time (``EXPTIME``),\n",
    "the wavelength zero point\n",
    "(``CRVAL1``), and the arm used (UVES has a red and a blue arm - see keyword\n",
    "``HIERARCH ESO INS PATH``). Then check that all exposures have the same\n",
    "setup."
   ]
  },
  {
   "cell_type": "code",
   "execution_count": 11,
   "metadata": {},
   "outputs": [
    {
     "name": "stdout",
     "output_type": "stream",
     "text": [
      "(1200.0013, 3732.05623191818, 'BLUE')\n",
      "(1200.0013, 3732.05623191818, 'BLUE')\n",
      "(1200.0013, 3732.05623191818, 'BLUE')\n",
      "(1200.0013, 3732.05623191818, 'BLUE')\n",
      "(1200.0013, 3732.05623191818, 'BLUE')\n",
      "(1200.0013, 3732.05623191818, 'BLUE')\n",
      "(1200.0013, 3732.05623191818, 'BLUE')\n",
      "(1200.0013, 3732.05623191818, 'BLUE')\n",
      "(1200.0013, 3732.05623191818, 'BLUE')\n",
      "(1200.0013, 3732.05623191818, 'BLUE')\n",
      "(1200.0013, 3732.05623191818, 'BLUE')\n",
      "(1200.0013, 3732.05623191818, 'BLUE')\n",
      "(1200.0013, 3732.05623191818, 'BLUE')\n",
      "(1200.0013, 3732.05623191818, 'BLUE')\n",
      "(1200.0013, 3732.05623191818, 'BLUE')\n",
      "(1200.0013, 3732.05623191818, 'BLUE')\n",
      "(1200.0013, 3732.05623191818, 'BLUE')\n",
      "(1200.0013, 3732.05623191818, 'BLUE')\n",
      "(1200.0013, 3732.05623191818, 'BLUE')\n",
      "(1200.0013, 3732.05623191818, 'BLUE')\n",
      "(1200.0013, 3732.05623191818, 'BLUE')\n",
      "(1200.0013, 3732.05623191818, 'BLUE')\n",
      "(1200.0013, 3732.05623191818, 'BLUE')\n",
      "(1200.0013, 3732.05623191818, 'BLUE')\n",
      "(1200.0013, 3732.05623191818, 'BLUE')\n"
     ]
    }
   ],
   "source": [
    "def read_setup(filename):\n",
    "    '''Get setup for UVES spectrum from the ESO pipeline\n",
    "\n",
    "    Parameters\n",
    "    ----------\n",
    "    filename : string\n",
    "    name of the fits file with the data\n",
    "\n",
    "    Returns\n",
    "    -------\n",
    "    exposure_time : float\n",
    "    wavelength_zero_point : float\n",
    "    optical_arm : string\n",
    "    '''\n",
    "    sp = fits.open(filelist[0])\n",
    "    header = sp[0].header\n",
    "\n",
    "    return header['EXPTIME'], header['CRVAL1'], header['HIERARCH ESO INS PATH']\n",
    "\n",
    "# Let's just print the setup on the screen\n",
    "# We'll see if it's all the same.\n",
    "for f in filelist:\n",
    "    print(read_setup(f))"
   ]
  },
  {
   "cell_type": "markdown",
   "metadata": {},
   "source": [
    "The UVES pipeline that was used to reduce the data that we use in the this example\n",
    "employs a fixed wavelength grid (see exercise above),\n",
    "thus the ``wavelength`` is the same for all spectra.\n",
    "This makes it easy to define an array that can hold the fluxes of all\n",
    "observations. Then, we loop over the list of all filenames and fill this array\n",
    "with data."
   ]
  },
  {
   "cell_type": "code",
   "execution_count": 12,
   "metadata": {},
   "outputs": [],
   "source": [
    "flux = np.zeros((len(filelist), len(wavelength)))\n",
    "# date comes as string with 23 characters (dtype = 'S23')\n",
    "date = np.zeros((len(filelist)), dtype = 'U23')\n",
    "\n",
    "for i, fname in enumerate(filelist):\n",
    "    w, f, date_obs = read_spec(fname)\n",
    "    flux[i,:] = f\n",
    "    date[i] = date_obs"
   ]
  },
  {
   "cell_type": "markdown",
   "metadata": {},
   "source": [
    "## Units and constants in astropy"
   ]
  },
  {
   "cell_type": "markdown",
   "metadata": {},
   "source": [
    "Often, one has to keep track of the units for certain values. Was the wavelength\n",
    "given in Angstrom or in nm? In X-ray observations, a common unit of wavelength is\n",
    "keV. How many nm is 0.65 keV?\n",
    "[`astropy.units`](http://docs.astropy.org/en/stable/units/index.html)\n",
    "offers a framework that can take\n",
    "care of this book-keeping and propagate the units through many (but not all)\n",
    "mathematical operations (e.g. addition, division, multiplication).\n",
    "Furthermore,\n",
    "[`astropy.constants`](http://docs.astropy.org/en/stable/constants/index.html)  supplies the values of\n",
    "many physical and astronomical constants.\n",
    "The easiest way to attach a unit to a number is by multiplication."
   ]
  },
  {
   "cell_type": "code",
   "execution_count": 13,
   "metadata": {},
   "outputs": [],
   "source": [
    "import astropy.units as u\n",
    "from astropy.constants.si import c, G, M_sun, R_sun\n",
    "\n",
    "wavelength = wavelength * u.AA\n",
    "\n",
    "# Let's define some constants we need for the exercises further down\n",
    "# Again, we multiply the value with a unit here\n",
    "heliocentric = -23. * u.km/u.s\n",
    "v_rad = -4.77 * u.km / u.s  # Strassmeier et al. (2005)\n",
    "R_MN_Lup = 0.9 * R_sun      # Strassmeier et al. (2005)\n",
    "M_MN_Lup = 0.6 * M_sun      # Strassmeier et al. (2005)\n",
    "vsini = 74.6 * u.km / u.s   # Strassmeier et al. (2005)\n",
    "period = 0.439 * u.day      # Strassmeier et al. (2005)\n",
    "\n",
    "inclination = 45. * u.degree # Strassmeier et al. (2005)\n",
    "# All numpy trigonometric functions expect the input in radian.\n",
    "# So far, astropy does not know this, so we need to convert the\n",
    "# angle manually\n",
    "incl = inclination.to(u.radian)"
   ]
  },
  {
   "cell_type": "markdown",
   "metadata": {},
   "source": [
    "Now we can use those variables in our calculations. MN Lup is a T Tauri\n",
    "star (TTS), which is possibly surrounded by an accretion disk. In the spectra\n",
    "we'll be looking for signatures of accretion. We expect those accretion\n",
    "signatures to appear close to the free-fall velocity v that a mass m reaches, when\n",
    "it hits the stellar surface. We can calculate the infall speed using simple\n",
    "energy conservation."
   ]
  },
  {
   "cell_type": "markdown",
   "metadata": {},
   "source": [
    "$$E_{kin}  =  E_{grav}$$\n",
    "$$\\frac{1}{2} m v^2  =  G \\frac{m M_*}{R_*}$$"
   ]
  },
  {
   "cell_type": "markdown",
   "metadata": {},
   "source": [
    "So, let's calculate the free-fall velocity for MN Lup."
   ]
  },
  {
   "cell_type": "code",
   "execution_count": 14,
   "metadata": {},
   "outputs": [
    {
     "name": "stdout",
     "output_type": "stream",
     "text": [
      "504329.2809002659 m / s\n",
      "50432928.09002659 cm / s\n",
      "1985548350.0010464 yd / h\n"
     ]
    }
   ],
   "source": [
    "v_accr = (2.* G * M_MN_Lup/R_MN_Lup)**0.5 \n",
    "print(v_accr)\n",
    "# Maybe astronomers prefer it in the traditional cgs system?\n",
    "print(v_accr.cgs)\n",
    "# Or in some really obscure unit?\n",
    "from astropy.units import imperial\n",
    "print(v_accr.to(imperial.yd / u.hour))"
   ]
  },
  {
   "cell_type": "markdown",
   "metadata": {},
   "source": [
    "How does the accretion velocity relate to the rotational velocity?"
   ]
  },
  {
   "cell_type": "code",
   "execution_count": 15,
   "metadata": {},
   "outputs": [
    {
     "data": {
      "text/latex": [
       "$4780.3573 \\; \\mathrm{\\frac{m}{km}}$"
      ],
      "text/plain": [
       "<Quantity 4780.3572986 m / km>"
      ]
     },
     "execution_count": 15,
     "metadata": {},
     "output_type": "execute_result"
    }
   ],
   "source": [
    "v_rot = vsini / np.sin(incl)\n",
    "v_accr / v_rot"
   ]
  },
  {
   "cell_type": "markdown",
   "metadata": {},
   "source": [
    "Oh, what is that? The seconds are gone, but ``astropy.quantity`` objects keep\n",
    "their different length units unless told otherwise."
   ]
  },
  {
   "cell_type": "code",
   "execution_count": 16,
   "metadata": {},
   "outputs": [
    {
     "data": {
      "text/latex": [
       "$4.7803573 \\; \\mathrm{}$"
      ],
      "text/plain": [
       "<Quantity 4.7803573>"
      ]
     },
     "execution_count": 16,
     "metadata": {},
     "output_type": "execute_result"
    }
   ],
   "source": [
    "(v_accr / v_rot).decompose()"
   ]
  },
  {
   "cell_type": "markdown",
   "metadata": {},
   "source": [
    "The reason for this is that it's not uncommon to use different length units in\n",
    "a single constant, e.g. the Hubble constant is commonly given in \"km/ (s Mpc)\".\n",
    "\"km\" and \"Mpc\" are both units of length, but generally you do *not* want to\n",
    "shorten this to \"1/s\".\n",
    "\n",
    "We can now use the ``astropy.units`` mechanism to correct the wavelength\n",
    "scale to the heliocentric velocity scale."
   ]
  },
  {
   "cell_type": "markdown",
   "metadata": {},
   "source": [
    "$\\lambda_{heliocentric} = \\lambda_{bariocentric} * (1 + \\frac{v_{helio}}{c})$"
   ]
  },
  {
   "cell_type": "markdown",
   "metadata": {},
   "source": [
    "We could try:"
   ]
  },
  {
   "cell_type": "code",
   "execution_count": 20,
   "metadata": {},
   "outputs": [
    {
     "name": "stdout",
     "output_type": "stream",
     "text": [
      "[3730.91107415 3730.94071843 3730.97036272 ... 4998.14494935 4998.17459364\n",
      " 4998.20423792] Angstrom\n"
     ]
    }
   ],
   "source": [
    "wavelength = wavelength * (1. + heliocentric/c)\n",
    "print(wavelength)"
   ]
  },
  {
   "cell_type": "markdown",
   "metadata": {},
   "source": [
    "However, this fails, because ``heliocentric/c`` is in units of \"km/m\" and ``1.``\n",
    "is just a number. From the notation above, it is not clear what we actually want.\n",
    "Do we ask for the value of ``heliocentric/c + 1.`` or do we want to simplify the\n",
    "units of  ``heliocentric/c`` and after that add ``1.``?\n",
    "There are several ways to make the instruction precise,\n",
    "but one is to explicitly add ``u.dimensionless_unscaled`` to ``1.``\n",
    "to tell astropy that this number is dimensionless and does not carry any scaling."
   ]
  },
  {
   "cell_type": "code",
   "execution_count": 22,
   "metadata": {},
   "outputs": [
    {
     "name": "stdout",
     "output_type": "stream",
     "text": [
      "[3730.33862704 3730.36826677 3730.39790651 ... 4997.37806599 4997.40770573\n",
      " 4997.43734546] Angstrom\n"
     ]
    }
   ],
   "source": [
    "wavelength = wavelength * (1. * u.dimensionless_unscaled+ heliocentric/c)\n",
    "print(wavelength)"
   ]
  },
  {
   "cell_type": "markdown",
   "metadata": {},
   "source": [
    "We want to mention one more feature here (check out\n",
    "[`astropy.units`](http://docs.astropy.org/en/stable/units/index.html) for\n",
    "more): The ability to convert the spectral axis to frequencies or energies.\n",
    "Normally, a unit of length is not equivalent to a unit of energy or to a\n",
    "frequency, but this conversion makes sense for the wavelength of a spectrum.\n",
    "This is how it can be done:"
   ]
  },
  {
   "cell_type": "code",
   "execution_count": 23,
   "metadata": {},
   "outputs": [
    {
     "data": {
      "text/latex": [
       "$[8.0366017 \\times 10^{14},~8.0365379 \\times 10^{14},~8.036474 \\times 10^{14},~\\dots,~5.998995 \\times 10^{14},~5.9989594 \\times 10^{14},~5.9989238 \\times 10^{14}] \\; \\mathrm{Hz}$"
      ],
      "text/plain": [
       "<Quantity [8.03660171e+14, 8.03653786e+14, 8.03647400e+14, ...,\n",
       "           5.99899495e+14, 5.99895937e+14, 5.99892379e+14] Hz>"
      ]
     },
     "execution_count": 23,
     "metadata": {},
     "output_type": "execute_result"
    }
   ],
   "source": [
    "wavelength.to(u.keV, equivalencies=u.spectral())\n",
    "wavelength.to(u.Hz, equivalencies=u.spectral())"
   ]
  },
  {
   "cell_type": "markdown",
   "metadata": {},
   "source": [
    "### Exercise"
   ]
  },
  {
   "cell_type": "markdown",
   "metadata": {},
   "source": [
    "Spectroscopically, MN Lup is classified as spectral type M0 V, thus\n",
    "the gravitational acceleration on the surface $\\log(g)$\n",
    "should be comparable to the sun.\n",
    "(For non-stellar astronomers: Conventionally, all values are given\n",
    "in the cgs system. The value for the sun is $\\log(g) = 4.4$.)\n",
    "\n",
    "Calculate $\\log(g)$ for MN Lup with the values for the mass\n",
    "and radius given above. Those values were determined from\n",
    "evolutionary tracks. Check if the $\\log(g)$ is consistent\n",
    "with the value expected from spectroscopy."
   ]
  },
  {
   "cell_type": "markdown",
   "metadata": {},
   "source": [
    "The values from evolutionary tracks are indeed consistent with the\n",
    "spectroscopically estimated surface gravity."
   ]
  },
  {
   "cell_type": "code",
   "execution_count": 24,
   "metadata": {},
   "outputs": [
    {
     "name": "stdout",
     "output_type": "stream",
     "text": [
      "4.3077338588081275\n"
     ]
    }
   ],
   "source": [
    "print(np.log10((G*M_MN_Lup/R_MN_Lup**2)/u.cm*u.second**2))"
   ]
  },
  {
   "cell_type": "markdown",
   "metadata": {},
   "source": [
    "### Exercise"
   ]
  },
  {
   "cell_type": "markdown",
   "metadata": {},
   "source": [
    "Write a function that turns a wavelength scale into a velocity scale.\n",
    "We want to input a wavelengths array and the rest wavelength of a spectral\n",
    "line. We need this function later to show the red- and blueshift of the\n",
    "spectrum relative to the the Ca II H line. Use the following definition\n",
    "to make sure that the code below can use it later.\n",
    "You can test if your function works by calculating the Doppler shift\n",
    "of the following wavelengths relative to $H_\\alpha$."
   ]
  },
  {
   "cell_type": "code",
   "execution_count": 25,
   "metadata": {},
   "outputs": [],
   "source": [
    "waveclosetoHa = np.array([6562.,6563,6565.]) * u.AA"
   ]
  },
  {
   "cell_type": "markdown",
   "metadata": {},
   "source": [
    "We get -132, -86 and +5 km/s."
   ]
  },
  {
   "cell_type": "code",
   "execution_count": 26,
   "metadata": {},
   "outputs": [
    {
     "name": "stdout",
     "output_type": "stream",
     "text": [
      "[-131.9748242   -86.30879506    5.0232632 ] km / s\n"
     ]
    }
   ],
   "source": [
    "# This function uses the Doppler equivalency between wavelength and velocity\n",
    "import astropy.units as u\n",
    "def wave2doppler(w, w0):\n",
    "    w0_equiv = u.doppler_optical(w0)\n",
    "    w_equiv = w.to(u.km/u.s, equivalencies=w0_equiv)\n",
    "    return w_equiv\n",
    "\n",
    "print(wave2doppler(waveclosetoHa, 656.489 * u.nm).to(u.km/u.s))"
   ]
  },
  {
   "cell_type": "markdown",
   "metadata": {},
   "source": [
    "### Exercise"
   ]
  },
  {
   "cell_type": "markdown",
   "metadata": {},
   "source": [
    "Write a function that takes a wavelength array and the rest wavelength of\n",
    "a spectral line as input, turns it into a Doppler shift (you can use\n",
    "the function from the last exercise),\n",
    "subtracts the radial velocity of MN Lup (4.77 km/s) and expresses\n",
    "the resulting velocity in units of vsini.\n",
    "We need this function later to show the red- and blueshift of the\n",
    "spectrum relative to the Ca II H line. Use the following definition\n",
    "to make sure the that code below can use it later."
   ]
  },
  {
   "cell_type": "code",
   "execution_count": 27,
   "metadata": {},
   "outputs": [],
   "source": [
    "def w2vsini(wavelength_array, wavelength_line):\n",
    "    # .. replace this with your implementation ..\n",
    "    return array_of_shifts_in_vsini"
   ]
  },
  {
   "cell_type": "code",
   "execution_count": 28,
   "metadata": {},
   "outputs": [],
   "source": [
    "def w2vsini(w, w0):\n",
    "    v = wave2doppler(w, w0) - 4.77 * u.km/u.s\n",
    "    return v / vsini"
   ]
  },
  {
   "cell_type": "markdown",
   "metadata": {},
   "source": [
    "## Converting times"
   ]
  },
  {
   "cell_type": "markdown",
   "metadata": {},
   "source": [
    "[`astropy.time`](http://docs.astropy.org/en/stable/time/index.html)\n",
    "provides methods to convert times and dates between different\n",
    "systems and formats. Since the ESO FITS headers already contain the time of the\n",
    "observation in different systems, we could just read the keyword in the time\n",
    "system we like, but we will use ``astropy.time`` to make this conversion here.\n",
    "``astropy.time.Time`` will parse many common input formats (strings, floats), but\n",
    "unless the format is unambiguous the format needs to be specified (e.g. a number\n",
    "could mean JD or MJD or year). Also, the time system needs to be given (e.g. UTC).\n",
    "Below are several examples, initialized from different header keywords."
   ]
  },
  {
   "cell_type": "code",
   "execution_count": 29,
   "metadata": {},
   "outputs": [],
   "source": [
    "from astropy.time import Time\n",
    "t1 = Time(header['MJD-Obs'], format = 'mjd', scale = 'utc')\n",
    "t2 = Time(header['Date-Obs'], scale = 'utc')"
   ]
  },
  {
   "cell_type": "markdown",
   "metadata": {},
   "source": [
    "Times can be expressed in different formats:"
   ]
  },
  {
   "cell_type": "code",
   "execution_count": 30,
   "metadata": {},
   "outputs": [
    {
     "data": {
      "text/plain": [
       "<Time object: scale='utc' format='isot' value=2011-08-11T23:23:52.266>"
      ]
     },
     "execution_count": 30,
     "metadata": {},
     "output_type": "execute_result"
    }
   ],
   "source": [
    "t1\n",
    "t1.isot\n",
    "t2"
   ]
  },
  {
   "cell_type": "markdown",
   "metadata": {},
   "source": [
    "or be converted to a different time system."
   ]
  },
  {
   "cell_type": "code",
   "execution_count": 31,
   "metadata": {},
   "outputs": [
    {
     "data": {
      "text/plain": [
       "<Time object: scale='tt' format='mjd' value=55784.97567650852>"
      ]
     },
     "execution_count": 31,
     "metadata": {},
     "output_type": "execute_result"
    }
   ],
   "source": [
    "t1.tt"
   ]
  },
  {
   "cell_type": "markdown",
   "metadata": {},
   "source": [
    "Times can also be initialized from arrays and we can calculate time differences."
   ]
  },
  {
   "cell_type": "code",
   "execution_count": 32,
   "metadata": {},
   "outputs": [],
   "source": [
    "obs_times = Time(date, scale = 'utc')\n",
    "delta_t = obs_times - Time(date[0], scale = 'utc')"
   ]
  },
  {
   "cell_type": "markdown",
   "metadata": {},
   "source": [
    "Now we want to express the time difference between the individual spectra of\n",
    "MN Lup in rotational periods. While the unit of ``delta_t`` is days, unfortunately\n",
    "``astropy.time.Time`` and ``astropy.units.Quantity`` objects don't work together\n",
    "yet, so we'll have to convert from one to the other explicitly."
   ]
  },
  {
   "cell_type": "code",
   "execution_count": 33,
   "metadata": {},
   "outputs": [],
   "source": [
    "delta_p = delta_t.value * u.day / period"
   ]
  },
  {
   "cell_type": "markdown",
   "metadata": {},
   "source": [
    "## Normalize the flux to the local continuum"
   ]
  },
  {
   "cell_type": "markdown",
   "metadata": {},
   "source": [
    "In this example we want to look at the time evolution of a single specific\n",
    "emission line in the spectrum. In order to estimate the equivalent width\n",
    "or make reasonable plots we need to normalize the flux to the local continuum.\n",
    "In this specific case the emission line is bright and the continuum can be\n",
    "described reasonably by a second-order polynomial."
   ]
  },
  {
   "cell_type": "markdown",
   "metadata": {},
   "source": [
    "So, we define two regions left and right of the emission line, where we fit the\n",
    "polynomial. Looking at the figure, ``[3925*u.AA, 3930*u.AA]`` and\n",
    "``[3938*u.AA, 3945*u.AA]`` seem right for that. Then, we normalize the flux by\n",
    "this polynomial.\n",
    "\n",
    "The following function will do that:"
   ]
  },
  {
   "cell_type": "code",
   "execution_count": 34,
   "metadata": {},
   "outputs": [],
   "source": [
    "def region_around_line(w, flux, cont):\n",
    "    '''cut out and normalize flux around a line\n",
    "\n",
    "    Parameters\n",
    "    ----------\n",
    "    w : 1 dim np.ndarray\n",
    "    array of wavelengths\n",
    "    flux : np.ndarray of shape (N, len(w))\n",
    "    array of flux values for different spectra in the series\n",
    "    cont : list of lists\n",
    "    wavelengths for continuum normalization [[low1,up1],[low2, up2]]\n",
    "    that described two areas on both sides of the line\n",
    "    '''\n",
    "    #index is true in the region where we fit the polynomial\n",
    "    indcont = ((w > cont[0][0]) & (w < cont[0][1])) |((w > cont[1][0]) & (w < cont[1][1]))\n",
    "    #index of the region we want to return\n",
    "    indrange = (w > cont[0][0]) & (w < cont[1][1])\n",
    "    # make a flux array of shape\n",
    "    # (number of spectra, number of points in indrange)\n",
    "    f = np.zeros((flux.shape[0], indrange.sum()))\n",
    "    for i in range(flux.shape[0]):\n",
    "        # fit polynomial of second order to the continuum region\n",
    "        linecoeff = np.polyfit(w[indcont], flux[i, indcont],2)\n",
    "        # divide the flux by the polynomial and put the result in our\n",
    "        # new flux array\n",
    "        f[i,:] = flux[i,indrange]/np.polyval(linecoeff, w[indrange])\n",
    "    return w[indrange], f\n",
    "\n",
    "wcaII, fcaII = region_around_line(wavelength, flux,\n",
    "    [[3925*u.AA, 3930*u.AA],[3938*u.AA, 3945*u.AA]])"
   ]
  },
  {
   "cell_type": "markdown",
   "metadata": {},
   "source": [
    "## Publication ready output"
   ]
  },
  {
   "cell_type": "markdown",
   "metadata": {},
   "source": [
    "### Tables"
   ]
  },
  {
   "cell_type": "markdown",
   "metadata": {},
   "source": [
    "We'll calculate the equivalent width in Angstroms of the emission line\n",
    "for the first spectrum."
   ]
  },
  {
   "cell_type": "code",
   "execution_count": 35,
   "metadata": {},
   "outputs": [
    {
     "name": "stdout",
     "output_type": "stream",
     "text": [
      "22.907113408926314\n"
     ]
    }
   ],
   "source": [
    "ew = fcaII[0,:] - 1.\n",
    "ew = ew[:-1] * np.diff(wcaII.to(u.AA).value)\n",
    "print(ew.sum())"
   ]
  },
  {
   "cell_type": "markdown",
   "metadata": {},
   "source": [
    "Using ``numpy`` array notation we can actually process all spectra at once."
   ]
  },
  {
   "cell_type": "code",
   "execution_count": 36,
   "metadata": {},
   "outputs": [],
   "source": [
    "delta_lam = np.diff(wcaII.to(u.AA).value)\n",
    "ew = np.sum((fcaII - 1.)[:,:-1] * delta_lam[np.newaxis, :], axis=1)"
   ]
  },
  {
   "cell_type": "markdown",
   "metadata": {},
   "source": [
    "Now we want to generate a LaTeX table of the observation times, period\n",
    "and equivalent width that we can directly paste into our manuscript. To do so,\n",
    "we first collect all the columns and make an ``astropy.table.Table`` object. (Please\n",
    "check [`astropy.table`](http://docs.astropy.org/en/stable/table/index.html)\n",
    "or `tabular-data` for more\n",
    "details on ``Table``). So, here is the code:"
   ]
  },
  {
   "cell_type": "code",
   "execution_count": 37,
   "metadata": {},
   "outputs": [],
   "source": [
    "from astropy.table import Column, Table\n",
    "from astropy.io import ascii\n",
    "\n",
    "datecol = Column(name = 'Obs Date', data = date)\n",
    "pcol = Column(name = 'phase', data = delta_p, format = '{:.1f}')\n",
    "ewcol = Column(name = 'EW', data = ew, format = '{:.1f}', unit = '\\\\AA')\n",
    "tab = Table((datecol, pcol, ewcol))\n",
    "# latexdicts['AA'] contains the style specifics for A&A (\\hline etc.)\n",
    "tab.write(os.path.join(working_dir_path, 'EWtab.tex'), latexdict = ascii.latexdicts['AA'])"
   ]
  },
  {
   "cell_type": "markdown",
   "metadata": {},
   "source": [
    "### Plots"
   ]
  },
  {
   "cell_type": "markdown",
   "metadata": {},
   "source": [
    "We'll make two plots. The plotting is done with\n",
    "[`matplotlib`](http://matplotlib.org), and does not involve Astropy itself.\n",
    "Plotting is introduced in `plotting-and-images` and more details on\n",
    "plotting can be found there. When in doubt, use the search engine of your choice\n",
    "and ask the internet. Here, we mainly want to illustrate that Astropy can be\n",
    "used in real-live data analysis.\n",
    "Thus we don't explain every step in the plotting in detail.\n",
    "The plots we produce below appear in very\n",
    "similar form in Guenther et al. 2013 (ApJ, 771, 70)."
   ]
  },
  {
   "cell_type": "markdown",
   "metadata": {},
   "source": [
    "In both cases we want the x-axis to show the Doppler shift expressed in units\n",
    "of the rotational velocity. In this way, features that are rotationally\n",
    "modulated will stick out between -1 and +1."
   ]
  },
  {
   "cell_type": "code",
   "execution_count": 38,
   "metadata": {},
   "outputs": [],
   "source": [
    "x = w2vsini(wcaII, 393.366 * u.nm).decompose()"
   ]
  },
  {
   "cell_type": "markdown",
   "metadata": {},
   "source": [
    "First, we'll show the line profile."
   ]
  },
  {
   "cell_type": "code",
   "execution_count": 42,
   "metadata": {},
   "outputs": [
    {
     "data": {
      "image/png": "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\n",
      "text/plain": [
       "<Figure size 432x288 with 1 Axes>"
      ]
     },
     "metadata": {},
     "output_type": "display_data"
    }
   ],
   "source": [
    "# set reasonable figsize for 1-column figures\n",
    "fig = plt.figure()\n",
    "ax = fig.add_subplot(1,1,1)\n",
    "ax.plot(x, fcaII[0,:], marker='', drawstyle='steps-mid')\n",
    "ax.set_xlim([-3,+3])\n",
    "ax.set_xlabel('line shift [v sin(i)]')\n",
    "ax.set_ylabel('flux')\n",
    "ax.set_title('Ca II H line in MN Lup')\n",
    "# when using this interface, we need to explicitly call the draw routine\n",
    "plt.draw()"
   ]
  },
  {
   "cell_type": "markdown",
   "metadata": {},
   "source": [
    "### Exercise"
   ]
  },
  {
   "cell_type": "markdown",
   "metadata": {},
   "source": [
    "The plot above shows only a single spectrum. Plot all spectra into a single\n",
    "plot and introduce a sensible offset between them, so that we can follow\n",
    "the time evolution of the line."
   ]
  },
  {
   "cell_type": "markdown",
   "metadata": {},
   "source": [
    "There are clearly several ways to produce a well-looking plot. Here is one\n",
    "way:"
   ]
  },
  {
   "cell_type": "code",
   "execution_count": 43,
   "metadata": {},
   "outputs": [
    {
     "data": {
      "image/png": "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\n",
      "text/plain": [
       "<Figure size 432x288 with 1 Axes>"
      ]
     },
     "metadata": {},
     "output_type": "display_data"
    }
   ],
   "source": [
    "yshift = np.arange((fcaII.shape[0])) * 0.5\n",
    "#shift the second night up by a little more\n",
    "yshift[:] += 1.5\n",
    "yshift[13:] += 1\n",
    "\n",
    "fig = plt.figure()\n",
    "ax = fig.add_subplot(1,1,1)\n",
    "\n",
    "for i in range(25):\n",
    "    ax.plot(x, fcaII[i,:]+yshift[i], 'k')\n",
    "\n",
    "#separately show the mean line profile in a different color\n",
    "ax.plot(x, np.mean(fcaII, axis =0))\n",
    "ax.set_xlim([-2.5,+2.5])\n",
    "ax.set_xlabel('line shift [$v \\\\sin i$]')\n",
    "ax.set_ylabel('flux')\n",
    "ax.set_title('Ca II H line in MN Lup')\n",
    "fig.subplots_adjust(bottom = 0.15)\n",
    "plt.draw()"
   ]
  },
  {
   "cell_type": "markdown",
   "metadata": {},
   "source": [
    "Next, we'll make a more advanced plot. For each spectrum we calculate\n",
    "the difference to the mean flux."
   ]
  },
  {
   "cell_type": "code",
   "execution_count": 44,
   "metadata": {},
   "outputs": [],
   "source": [
    "fmean = np.mean(fcaII, axis=0)\n",
    "fdiff = fcaII - fmean[np.newaxis,:]"
   ]
  },
  {
   "cell_type": "markdown",
   "metadata": {},
   "source": [
    "In the following simple plot, we can already see features moving through the line.\n",
    "However, the axis scales are not right, the gap between both nights is not visible\n",
    "and there is no proper labeling."
   ]
  },
  {
   "cell_type": "code",
   "execution_count": 45,
   "metadata": {},
   "outputs": [
    {
     "data": {
      "image/png": "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\n",
      "text/plain": [
       "<Figure size 432x288 with 1 Axes>"
      ]
     },
     "metadata": {},
     "output_type": "display_data"
    }
   ],
   "source": [
    "fig = plt.figure()\n",
    "ax = fig.add_subplot(1,1,1)\n",
    "im = ax.imshow(fdiff, aspect = \"auto\", origin = 'lower')"
   ]
  },
  {
   "cell_type": "markdown",
   "metadata": {},
   "source": [
    "In the following, we'll plot the spectra from both nights separately.\n",
    "Also, we'll pass the ``extent`` keyword to ``ax.imshow`` which takes care\n",
    "of the axis."
   ]
  },
  {
   "cell_type": "code",
   "execution_count": 46,
   "metadata": {},
   "outputs": [
    {
     "data": {
      "image/png": "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\n",
      "text/plain": [
       "<Figure size 432x288 with 1 Axes>"
      ]
     },
     "metadata": {},
     "output_type": "display_data"
    }
   ],
   "source": [
    "ind1 = delta_p < 1 * u.dimensionless_unscaled\n",
    "ind2 = delta_p > 1 * u.dimensionless_unscaled\n",
    "\n",
    "fig = plt.figure()\n",
    "ax = fig.add_subplot(1,1,1)\n",
    "\n",
    "for ind in [ind1, ind2]:\n",
    "    im = ax.imshow(fdiff[ind,:], extent = (np.min(x), np.max(x), np.min(delta_p[ind]), np.max(delta_p[ind])), aspect = \"auto\", origin = 'lower')\n",
    "\n",
    "ax.set_ylim([np.min(delta_p), np.max(delta_p)])\n",
    "ax.set_xlim([-1.9,1.9])\n",
    "plt.draw()"
   ]
  },
  {
   "cell_type": "markdown",
   "metadata": {},
   "source": [
    "Now, this plot is already much better, but there are still some things that can be\n",
    "improved:\n",
    "\n",
    "* Introduce an offset on the y-axis to reduce the amount of white space.\n",
    "* Strictly speaking, the image shown is not quite the right scale because the\n",
    "``extent`` keyword gives the edges of the image shown, while ``x`` and\n",
    "``delta_p`` contain the bin mid-points.\n",
    "* Use a gray scale instead of color to save publication charges.\n",
    "* Add labels to the axis.\n",
    "\n",
    "The following code addresses these points."
   ]
  },
  {
   "cell_type": "code",
   "execution_count": 47,
   "metadata": {},
   "outputs": [
    {
     "data": {
      "image/png": "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\n",
      "text/plain": [
       "<Figure size 432x288 with 1 Axes>"
      ]
     },
     "metadata": {},
     "output_type": "display_data"
    }
   ],
   "source": [
    "# shift a little for plotting purposes\n",
    "pplot = delta_p.copy().value\n",
    "pplot[ind2] -= 1.5\n",
    "# image goes from x1 to x2, but really x1 should be middle of first pixel\n",
    "delta_t = np.median(np.diff(delta_p))/2.\n",
    "delta_x = np.median(np.diff(x))/2.\n",
    "# imshow does the normalization for plotting really well, but here I do it\n",
    "# by hand to ensure it goes -1,+1 (that makes color bar look good)\n",
    "fdiff = fdiff / np.max(np.abs(fdiff))\n",
    "\n",
    "fig = plt.figure()\n",
    "ax = fig.add_subplot(1,1,1)\n",
    "\n",
    "for ind in [ind1, ind2]:\n",
    "    im = ax.imshow(fdiff[ind,:],\n",
    "    extent = (np.min(x)-delta_x, np.max(x)+delta_x,\n",
    "    np.min(pplot[ind])-delta_t, np.max(pplot[ind])+delta_t),\n",
    "    aspect = \"auto\", origin = 'lower', cmap = plt.cm.Greys_r)\n",
    "\n",
    "ax.set_ylim([np.min(pplot)-delta_t, np.max(pplot)+delta_t])\n",
    "ax.set_xlim([-1.9,1.9])\n",
    "ax.set_xlabel('vel in $v\\\\sin i$')\n",
    "ax.xaxis.set_major_locator(plt.MaxNLocator(4))\n",
    "\n",
    "def pplot(y, pos):\n",
    "    'The two args are the value and tick position'\n",
    "    'Function to make tick labels look good.'\n",
    "    if y < 0.5:\n",
    "        yreal = y\n",
    "    else:\n",
    "        yreal = y + 1.5\n",
    "    return yreal\n",
    "\n",
    "formatter = plt.FuncFormatter(pplot)\n",
    "ax.yaxis.set_major_formatter(formatter)\n",
    "ax.set_ylabel('period')\n",
    "fig.subplots_adjust(left = 0.15, bottom = 0.15, right = 0.99, top = 0.99)\n",
    "plt.draw()"
   ]
  },
  {
   "cell_type": "markdown",
   "metadata": {},
   "source": [
    "### Exercise"
   ]
  },
  {
   "cell_type": "markdown",
   "metadata": {},
   "source": [
    "Understand the code for the last plot. Some of the commands used are\n",
    "already pretty advanced stuff. Remember, any internet search engine can be\n",
    "your friend."
   ]
  },
  {
   "cell_type": "markdown",
   "metadata": {},
   "source": [
    "Clearly, we didn't develop this code for scratch.\n",
    "The [matplotlib gallery](http://matplotlib.org/gallery.html) is our\n",
    "preferred place to look for plotting solutions."
   ]
  },
  {
   "cell_type": "markdown",
   "metadata": {},
   "source": [
    "## Contributing to Astropy"
   ]
  },
  {
   "cell_type": "markdown",
   "metadata": {},
   "source": [
    "[Astropy](http://astropy.org) is an open-source and community-developed\n",
    "Python package, which means that is only as good as the contribution of the\n",
    "astronomical community. There will always people who have more fun writing\n",
    "code and others who have more fun using it. However, if you find a bug and do not\n",
    "report it, then it is unlikely to be fixed. If you wish for a specific feature,\n",
    "then you can either implement it and contribute it or at least fill in a feature\n",
    "request.\n",
    "\n",
    "If you want to get help or discuss issues with other Astropy users, you can\n",
    "sign up for the [astropy mailing list](http://mail.scipy.org/mailman/listinfo/astropy).\n",
    "Alternatively, the [astropy-dev](http://groups.google.com/group/astropy-dev) list is where you should go to\n",
    "discuss more technical aspects of Astropy with the developers.\n",
    "\n",
    "If you have come across something that you believe is a bug, please open a\n",
    "ticket in the Astropy [issue tracker](http://github.com/astropy/astropy/issues), and we will look into it\n",
    "promptly.\n",
    "\n",
    "Please try to include an example that demonstrates the issue and will allow the\n",
    "developers to reproduce and fix the problem.  If you are seeing a crash\n",
    "then frequently it will help to include the full Python stack trace as well as\n",
    "information about your operating system (e.g. MacOSX version or Linux version)."
   ]
  },
  {
   "cell_type": "code",
   "execution_count": null,
   "metadata": {},
   "outputs": [],
   "source": []
  }
 ],
 "metadata": {
  "astropy-tutorials": {
   "author": "Hans Moritz Günther <hguenther@cfa.harvard.edu>, Miguel de Val-Borro <valborro@princeton.edu>",
   "date": "August 2014",
   "description": "This tutorial demonstrates the data analysis of MN Lup obtained with the UVES spectrograph on the VLT.",
   "link_name": "Analyzing UVES Spectroscopy with Astropy",
   "name": "",
   "published": true
  },
  "kernelspec": {
   "display_name": "Python 3",
   "language": "python",
   "name": "conda-env-astrotuts-py"
  },
  "language_info": {
   "codemirror_mode": {
    "name": "ipython",
    "version": 3
   },
   "file_extension": ".py",
   "mimetype": "text/x-python",
   "name": "python",
   "nbconvert_exporter": "python",
   "pygments_lexer": "ipython3",
   "version": "3.6.5"
  }
 },
 "nbformat": 4,
 "nbformat_minor": 1
}
