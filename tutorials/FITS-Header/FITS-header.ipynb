{
 "metadata": {
  "name": ""
 },
 "nbformat": 3,
 "nbformat_minor": 0,
 "worksheets": [
  {
   "cells": [
    {
     "cell_type": "heading",
     "level": 1,
     "metadata": {},
     "source": [
      "Tutorial : Edit a FITS header"
     ]
    },
    {
     "cell_type": "markdown",
     "metadata": {},
     "source": [
      "This tutorial describes how to read in, edit a FITS header, and then write \n",
      "it back out to disk. For this example we're going to change the `OBJECT` \n",
      "keyword.\n",
      "\n",
      "This tutorial uses [`astropy.io.fits`](http://docs.astropy.org/en/latest/io/fits/index.html), \n",
      "which was formerly released separately as `pyfits`. If you have used \n",
      "`pyfits` to manipulate FITS files then you may already be familiar \n",
      "with the features and syntax of the package."
     ]
    },
    {
     "cell_type": "code",
     "collapsed": false,
     "input": [
      "from astropy.io import fits"
     ],
     "language": "python",
     "metadata": {},
     "outputs": [],
     "prompt_number": 2
    },
    {
     "cell_type": "markdown",
     "metadata": {},
     "source": [
      "``astropy.io.fits`` provides a lot of flexibility for reading FITS \n",
      "files and headers, but most of the time the convenience functions are\n",
      "the easiest way to access the data:"
     ]
    },
    {
     "cell_type": "code",
     "collapsed": false,
     "input": [
      "data, header = fits.getdata(\"input_file.fits\", header=True)"
     ],
     "language": "python",
     "metadata": {},
     "outputs": [],
     "prompt_number": 6
    },
    {
     "cell_type": "code",
     "collapsed": false,
     "input": [
      "``astropy.io.fits`` provides a lot of flexibility for reading FITS \n",
      "files and headers, but most of the time the convenience functions are\n",
      "the easiest way to access the data::\n",
      "\n",
      "    from astropy.io import fits\n",
      "    data, header = fits.getdata(\"inputfile.fits\", header=True)\n",
      "\n",
      "The import line simply imports the `fits` subpackage into our local\n",
      "namespace and allows us to access the functions and classes as\n",
      "`fits.name_of_function()`. For example, to access the `getdata()`\n",
      "function, we _don't_ have to do `astropy.io.fits.getdata()` and can\n",
      "instead simple use `fits.getdata()`.\n",
      "\n",
      "You may run across documentation or tutorials that use the name \n",
      "`pyfits`. Such examples will begin with `import pyfits` and then \n",
      "the command `fits.getdata()` (for example) would be written as \n",
      "`pyfits.getdata()`. Be careful of the naming convention when \n",
      "following other examples. \n",
      "\n",
      "``fits.getdata()`` reads the data and header from a FITS file on disk \n",
      "(inputfile.fits, in this case). Note that you have to specify the \n",
      "keyword argument `header=True` to get both the header and the actual \n",
      "data array. There is also a dedicated function for reading just the \n",
      "header (`getheader('filename.fits',hdu_number)`), but `getdata()` can \n",
      "get both the data and the header, so it is a useful command to \n",
      "remember. Since the primary HDU of a FITS file must contain image data, \n",
      "the data is now stored in a ``numpy`` array. The header is stored in an \n",
      "object that acts like a standard Python dictionary. \n",
      "\n",
      "Now let's change the header to give it the correct object::\n",
      "\n",
      "    hdr['OBJECT'] = \"M31\"\n",
      "\n",
      "Finally, we have to write out the FITS file. Again, the convenience \n",
      "function for this is the most useful command to remember::\n",
      "    \n",
      "    fits.writeto('outputfile.fits',data,hdr)\n",
      "\n",
      "That's it; you're done. \n",
      "\n",
      "Two common more complicated cases are worth mentioning (if your needs \n",
      "are more complex you should consult the full documentation). \n",
      "\n",
      "The first complication is that the FITS file you're examining and \n",
      "editing might have multiple HDU's (extensions), in which case you can \n",
      "specify the extension like this::\n",
      "\n",
      "    data,hdr = fits.getdata(\"inputfile.fits\",ext=2,header=True)\n",
      "\n",
      "This will get you the data and header associated with the 2nd extension \n",
      "in the FITS file. Without specifiying a number, getdata() will get the \n",
      "0th extension (equivalent to saying `ext=0`).\n",
      "\n",
      "The second complication is if you want to overwrite an existing FITS \n",
      "file. By default, writeto() won't let you do this, and you need to \n",
      "explicitly give it persmission::\n",
      "    \n",
      "    fits.writeto('outputfile.fits',data,hdr,clobber=True)\n",
      "\n",
      "The complete code for the above example is included below for reference."
     ],
     "language": "python",
     "metadata": {},
     "outputs": []
    }
   ],
   "metadata": {}
  }
 ]
}