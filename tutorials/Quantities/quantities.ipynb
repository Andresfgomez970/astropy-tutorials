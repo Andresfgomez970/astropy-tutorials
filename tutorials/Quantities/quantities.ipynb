{
 "metadata": {
  "name": ""
 },
 "nbformat": 3,
 "nbformat_minor": 0,
 "worksheets": [
  {
   "cells": [
    {
     "cell_type": "heading",
     "level": 1,
     "metadata": {},
     "source": [
      "Quantities"
     ]
    },
    {
     "cell_type": "markdown",
     "metadata": {},
     "source": [
      "In this tutorial we show how one might use astropy quantities when calculating masses of galaxies from velocity dispersion and masses of molecular clouds from CO intensity maps."
     ]
    },
    {
     "cell_type": "markdown",
     "metadata": {},
     "source": [
      "During the initial setup, we will load standard libraries and set up plotting."
     ]
    },
    {
     "cell_type": "code",
     "collapsed": false,
     "input": [
      "#!/usr/bin/env python\n",
      "\n",
      "from __future__ import print_function, division\n",
      "\n",
      "import numpy as np\n",
      "import matplotlib as mpl\n",
      "import matplotlib.pyplot as plt\n",
      "import math\n",
      "\n",
      "# Reproducible results!|\n",
      "np.random.seed(12345)\n",
      "\n",
      "# Plotting setup\n",
      "%matplotlib inline\n",
      "txt = 18\n",
      "mpl.rcParams['axes.labelsize'] = txt\n",
      "mpl.rcParams['xtick.labelsize'] = txt\n",
      "mpl.rcParams['ytick.labelsize'] = txt"
     ],
     "language": "python",
     "metadata": {},
     "outputs": [],
     "prompt_number": 30
    },
    {
     "cell_type": "markdown",
     "metadata": {},
     "source": [
      "It is conventional to load astropy units as u. Astropy also has a constants module, where most of the physical constants are stored as quantities. Here, we'll only need the gravitational constant G."
     ]
    },
    {
     "cell_type": "code",
     "collapsed": false,
     "input": [
      "import astropy.units as u\n",
      "from astropy.constants import G, h, k_B"
     ],
     "language": "python",
     "metadata": {},
     "outputs": [],
     "prompt_number": 70
    },
    {
     "cell_type": "heading",
     "level": 2,
     "metadata": {},
     "source": [
      "1. Galaxy mass"
     ]
    },
    {
     "cell_type": "markdown",
     "metadata": {},
     "source": [
      "Let's assume that we measured the half light radius of the galaxy to be 29 pc, which we'll store in quantity R. We create a quantity object just by multiplying the value with its unit. Units are accessed as u.\"unit\", in this case u.pc."
     ]
    },
    {
     "cell_type": "code",
     "collapsed": false,
     "input": [
      "R=29*u.pc"
     ],
     "language": "python",
     "metadata": {},
     "outputs": [],
     "prompt_number": 11
    },
    {
     "cell_type": "markdown",
     "metadata": {},
     "source": [
      "We can access the value and unit separately using the value and unit attributes."
     ]
    },
    {
     "cell_type": "code",
     "collapsed": false,
     "input": [
      "print(\"\"\"Half light radius\n",
      "value: {0}\n",
      "unit: {1}\"\"\".format(R.value, R.unit))"
     ],
     "language": "python",
     "metadata": {},
     "outputs": [
      {
       "output_type": "stream",
       "stream": "stdout",
       "text": [
        "Half light radius\n",
        "value: 29\n",
        "unit: pc\n"
       ]
      }
     ],
     "prompt_number": 12
    },
    {
     "cell_type": "markdown",
     "metadata": {},
     "source": [
      "Furthermore, we can convert the radius in parsecs to any other unit of length using the to() method. Here, we convert it to meters."
     ]
    },
    {
     "cell_type": "code",
     "collapsed": false,
     "input": [
      "print(\"{0:.3g}\".format(R.to(u.m)))"
     ],
     "language": "python",
     "metadata": {},
     "outputs": [
      {
       "output_type": "stream",
       "stream": "stdout",
       "text": [
        "8.95e+17 m\n"
       ]
      }
     ],
     "prompt_number": 13
    },
    {
     "cell_type": "markdown",
     "metadata": {},
     "source": [
      "Next, we will first create a synthetic dataset of radial velocity measurements, assuming a normal distribution with a mean velocity of 206 km/s and a velocity dispersion of 4.3 km/s."
     ]
    },
    {
     "cell_type": "code",
     "collapsed": false,
     "input": [
      "vmean=206\n",
      "sigin=4.3\n",
      "v=np.random.normal(vmean, sigin, 500)*u.km/u.s"
     ],
     "language": "python",
     "metadata": {},
     "outputs": [],
     "prompt_number": 14
    },
    {
     "cell_type": "code",
     "collapsed": false,
     "input": [
      "print(\"\"\"First 10 radial velocity measurements: \n",
      "{0}\n",
      "{1}\"\"\".format(v[:10], v.to(u.m/u.s)[:10]))"
     ],
     "language": "python",
     "metadata": {},
     "outputs": [
      {
       "output_type": "stream",
       "stream": "stdout",
       "text": [
        "First 10 radial velocity measurements: \n",
        "[ 205.11975706  208.05945635  203.76641353  203.61035969  214.45285646\n",
        "  211.99164508  206.39950387  207.21150846  209.30679704  211.35966937] km / s\n",
        "[ 205119.75706422  208059.45635365  203766.41352526  203610.35969131\n",
        "  214452.85646176  211991.64508178  206399.50387     207211.50845717\n",
        "  209306.79704073  211359.66936646] m / s\n"
       ]
      }
     ],
     "prompt_number": 15
    },
    {
     "cell_type": "code",
     "collapsed": false,
     "input": [
      "plt.hist(v, bins=20, histtype=\"step\")\n",
      "plt.xlabel(\"Velocity (km/s)\")\n",
      "plt.ylabel(\"N\")"
     ],
     "language": "python",
     "metadata": {},
     "outputs": [
      {
       "metadata": {},
       "output_type": "pyout",
       "prompt_number": 16,
       "text": [
        "<matplotlib.text.Text at 0x3f45110>"
       ]
      },
      {
       "metadata": {},
       "output_type": "display_data",
       "png": "[encoded data removed]",
       "text": [
        "<matplotlib.figure.Figure at 0x3f38e50>"
       ]
      }
     ],
     "prompt_number": 16
    },
    {
     "cell_type": "markdown",
     "metadata": {},
     "source": [
      "Here we calculate the velocity dispersion of the system and show how one can perform basic operations with quantities (subtraction and division), and also use them in standard numpy functions, such as np.mean and np.size."
     ]
    },
    {
     "cell_type": "code",
     "collapsed": false,
     "input": [
      "sigma=np.sqrt(np.sum((v-np.mean(v))**2)/np.size(v))\n",
      "print(\"Velocity dispersion: {0:.2f}\".format(sigma))"
     ],
     "language": "python",
     "metadata": {},
     "outputs": [
      {
       "output_type": "stream",
       "stream": "stdout",
       "text": [
        "Velocity dispersion: 4.36 km / s\n"
       ]
      }
     ],
     "prompt_number": 17
    },
    {
     "cell_type": "markdown",
     "metadata": {},
     "source": [
      "Note how we needed to use numpy square root function, because the resulting velocity dispersion quantity is a numpy array. If we used the scalar sqrt instead, we get a TypeError."
     ]
    },
    {
     "cell_type": "code",
     "collapsed": false,
     "input": [
      "sigma_scalar=math.sqrt(np.sum((v-np.mean(v))**2)/np.size(v))"
     ],
     "language": "python",
     "metadata": {},
     "outputs": [
      {
       "ename": "TypeError",
       "evalue": "Only dimensionless scalar quantities can be converted to Python scalars",
       "output_type": "pyerr",
       "traceback": [
        "\u001b[1;31m---------------------------------------------------------------------------\u001b[0m\n\u001b[1;31mTypeError\u001b[0m                                 Traceback (most recent call last)",
        "\u001b[1;32m<ipython-input-18-de856f97964e>\u001b[0m in \u001b[0;36m<module>\u001b[1;34m()\u001b[0m\n\u001b[1;32m----> 1\u001b[1;33m \u001b[0msigma_scalar\u001b[0m\u001b[1;33m=\u001b[0m\u001b[0mmath\u001b[0m\u001b[1;33m.\u001b[0m\u001b[0msqrt\u001b[0m\u001b[1;33m(\u001b[0m\u001b[0mnp\u001b[0m\u001b[1;33m.\u001b[0m\u001b[0msum\u001b[0m\u001b[1;33m(\u001b[0m\u001b[1;33m(\u001b[0m\u001b[0mv\u001b[0m\u001b[1;33m-\u001b[0m\u001b[0mnp\u001b[0m\u001b[1;33m.\u001b[0m\u001b[0mmean\u001b[0m\u001b[1;33m(\u001b[0m\u001b[0mv\u001b[0m\u001b[1;33m)\u001b[0m\u001b[1;33m)\u001b[0m\u001b[1;33m**\u001b[0m\u001b[1;36m2\u001b[0m\u001b[1;33m)\u001b[0m\u001b[1;33m/\u001b[0m\u001b[0mnp\u001b[0m\u001b[1;33m.\u001b[0m\u001b[0msize\u001b[0m\u001b[1;33m(\u001b[0m\u001b[0mv\u001b[0m\u001b[1;33m)\u001b[0m\u001b[1;33m)\u001b[0m\u001b[1;33m\u001b[0m\u001b[0m\n\u001b[0m",
        "\u001b[1;32m/usr/lib64/python2.7/site-packages/astropy/units/quantity.pyc\u001b[0m in \u001b[0;36m__float__\u001b[1;34m(self)\u001b[0m\n\u001b[0;32m    719\u001b[0m     \u001b[1;32mdef\u001b[0m \u001b[0m__float__\u001b[0m\u001b[1;33m(\u001b[0m\u001b[0mself\u001b[0m\u001b[1;33m)\u001b[0m\u001b[1;33m:\u001b[0m\u001b[1;33m\u001b[0m\u001b[0m\n\u001b[0;32m    720\u001b[0m         \u001b[1;32mif\u001b[0m \u001b[1;32mnot\u001b[0m \u001b[0mself\u001b[0m\u001b[1;33m.\u001b[0m\u001b[0misscalar\u001b[0m \u001b[1;32mor\u001b[0m \u001b[1;32mnot\u001b[0m \u001b[0mself\u001b[0m\u001b[1;33m.\u001b[0m\u001b[0munit\u001b[0m\u001b[1;33m.\u001b[0m\u001b[0mis_unity\u001b[0m\u001b[1;33m(\u001b[0m\u001b[1;33m)\u001b[0m\u001b[1;33m:\u001b[0m\u001b[1;33m\u001b[0m\u001b[0m\n\u001b[1;32m--> 721\u001b[1;33m             raise TypeError('Only dimensionless scalar quantities can be '\n\u001b[0m\u001b[0;32m    722\u001b[0m                             'converted to Python scalars')\n\u001b[0;32m    723\u001b[0m         \u001b[1;32melse\u001b[0m\u001b[1;33m:\u001b[0m\u001b[1;33m\u001b[0m\u001b[0m\n",
        "\u001b[1;31mTypeError\u001b[0m: Only dimensionless scalar quantities can be converted to Python scalars"
       ]
      }
     ],
     "prompt_number": 18
    },
    {
     "cell_type": "markdown",
     "metadata": {},
     "source": [
      "Galaxy mass can be calculated using the virial theorem: $M=3\\sigma^2 R_{1/2}/G$, where the factor of 3 accounts for all 3 dimensions. Just multiplying the quantities we get mass in a composite unit."
     ]
    },
    {
     "cell_type": "code",
     "collapsed": false,
     "input": [
      "M=3*R*sigma**2/G\n",
      "M"
     ],
     "language": "python",
     "metadata": {},
     "outputs": [
      {
       "latex": [
        "$2.48153\\times 10^{+13} \\; \\mathrm{\\frac{km^{2}\\,kg\\,pc}{m^{3}}}$"
       ],
       "metadata": {},
       "output_type": "pyout",
       "prompt_number": 23,
       "text": [
        "<Quantity 24815341099731.703 kg km2 pc / m3>"
       ]
      }
     ],
     "prompt_number": 23
    },
    {
     "cell_type": "markdown",
     "metadata": {},
     "source": [
      "However, it can be decomposed to cancel all of the length units ($km^2 pc/m^3$) using the decompose() method."
     ]
    },
    {
     "cell_type": "code",
     "collapsed": false,
     "input": [
      "M.decompose()"
     ],
     "language": "python",
     "metadata": {},
     "outputs": [
      {
       "latex": [
        "$7.65721\\times 10^{+35} \\; \\mathrm{kg}$"
       ],
       "metadata": {},
       "output_type": "pyout",
       "prompt_number": 24,
       "text": [
        "<Quantity 7.657214170790352e+35 kg>"
       ]
      }
     ],
     "prompt_number": 24
    },
    {
     "cell_type": "markdown",
     "metadata": {},
     "source": [
      "We can also express the mass in the units of solar mass, or the default SI and CGS units."
     ]
    },
    {
     "cell_type": "code",
     "collapsed": false,
     "input": [
      "print(\"\"\"Galaxy mass\n",
      "astronomical units: {0:.3g}\n",
      "SI units: {1:.3g}\n",
      "CGS units: {2:.3g}\"\"\".format(M.to(u.Msun), M.si, M.cgs))"
     ],
     "language": "python",
     "metadata": {},
     "outputs": [
      {
       "output_type": "stream",
       "stream": "stdout",
       "text": [
        "Galaxy mass\n",
        "astronomical units: 3.85e+05 solMass\n",
        "SI units: 7.66e+35 kg\n",
        "CGS units: 7.66e+38 g\n"
       ]
      }
     ],
     "prompt_number": 25
    },
    {
     "cell_type": "heading",
     "level": 2,
     "metadata": {},
     "source": [
      "2. Molecular cloud mass"
     ]
    },
    {
     "cell_type": "markdown",
     "metadata": {},
     "source": [
      "Let's assume that we mapped inner part of a molecular cloud using C$^{18}$O and are interested in measuring its total mass. The measurement resulted in a data cube where the dimensions are RA, Dec and velocity, and the values are brightness temperature. Furthermore, we will assume that we have an independent measurement of distance to the cloud $d=250$ pc and that the excitation temperature is constant throughout the cloud $T_{ex}=25$ K."
     ]
    },
    {
     "cell_type": "code",
     "collapsed": false,
     "input": [
      "d = 250*u.pc\n",
      "Tex = 25*u.K"
     ],
     "language": "python",
     "metadata": {},
     "outputs": [],
     "prompt_number": 182
    },
    {
     "cell_type": "markdown",
     "metadata": {},
     "source": [
      "For simplicity, we will generate a synthetic dataset, assuming the cloud is a 3D Gaussian in RA, Dec and velocity coordinates. We start by creating a 100x100x300 numpy array, such that the first coordinate is right ascension, the second is declination, and the third is velocity. The cloud is positioned at the center of the cube, and its spread is determined by the $s_i$ parameters."
     ]
    },
    {
     "cell_type": "code",
     "collapsed": false,
     "input": [
      "# Define data cube\n",
      "nx = ny = 100\n",
      "nz = 300\n",
      "data = np.zeros((nx, ny, nz))\n",
      "\n",
      "# Position of the cloud center\n",
      "xc = yc = 50\n",
      "zc = 150\n",
      "\n",
      "# Cloud dispersion\n",
      "sx = 12\n",
      "sy = 10\n",
      "sz = 30\n",
      "\n",
      "# Create the cloud (3D Gaussian)\n",
      "for i in range(nx):\n",
      "    for j in range(ny):\n",
      "        for k in range(nz):\n",
      "            data[i][j][k] = math.exp( - 0.5*((i-xc)/sx)**2 - 0.5*((j-yc)/sy)**2 - 0.5*((k-zc)/sz)**2 )"
     ],
     "language": "python",
     "metadata": {},
     "outputs": [],
     "prompt_number": 223
    },
    {
     "cell_type": "markdown",
     "metadata": {},
     "source": [
      "Next we create a quantity array with the units of K/(km/s) by multiplying the numpy data cube by the corresponding units:"
     ]
    },
    {
     "cell_type": "code",
     "collapsed": false,
     "input": [
      "qdata = data * (u.K/(u.km/u.s))"
     ],
     "language": "python",
     "metadata": {},
     "outputs": [],
     "prompt_number": 235
    },
    {
     "cell_type": "markdown",
     "metadata": {},
     "source": [
      "The span of the data cube in the sky coordinates is given by $x_i$ and $x_f$. Furthermore, pixel size is given by $dx$, $dy$ and $dv$."
     ]
    },
    {
     "cell_type": "code",
     "collapsed": false,
     "input": [
      "# Sky coordinates\n",
      "rai = 52 * u.deg\n",
      "raf = 52.5 * u.deg\n",
      "deci = 30 * u.deg\n",
      "decf = 30.5 * u.deg\n",
      "\n",
      "# Pixel sizes\n",
      "dx = dy = 25 * u.arcsec\n",
      "dv = 0.1 * u.km/u.s"
     ],
     "language": "python",
     "metadata": {},
     "outputs": [],
     "prompt_number": 253
    },
    {
     "cell_type": "markdown",
     "metadata": {},
     "source": [
      "We are interested in the integrated intensity over all of the velocity channels, so we will created a 2D quantity array by summing our data cube along the velocity axis. The resulting quantity preserves the correct units."
     ]
    },
    {
     "cell_type": "code",
     "collapsed": false,
     "input": [
      "intcloud = np.sum(qdata, axis=2)\n",
      "intcloud.unit"
     ],
     "language": "python",
     "metadata": {},
     "outputs": [
      {
       "latex": [
        "$\\mathrm{\\frac{K\\,s}{km}}$"
       ],
       "metadata": {},
       "output_type": "pyout",
       "prompt_number": 258,
       "text": [
        "Unit(\"K s / km\")"
       ]
      }
     ],
     "prompt_number": 258
    },
    {
     "cell_type": "markdown",
     "metadata": {},
     "source": [
      "We can plot the 2D quantity using matplotlib's imshow function, by passing the quantity's value. Similarly, we can set the correct extent using the values of $x_i$ and $x_f$. Finally, we can set the colorbar label to have proper units."
     ]
    },
    {
     "cell_type": "code",
     "collapsed": false,
     "input": [
      "plt.imshow(intcloud.value, origin='lower', extent=[rai.value, raf.value, deci.value, decf.value], cmap='hot', interpolation='nearest', aspect='equal')\n",
      "plt.colorbar().set_label(\"Intensity ({})\".format(intcloud.unit))\n",
      "plt.xlabel(\"RA (deg)\")\n",
      "plt.ylabel(\"Dec (deg)\")"
     ],
     "language": "python",
     "metadata": {},
     "outputs": [
      {
       "metadata": {},
       "output_type": "pyout",
       "prompt_number": 260,
       "text": [
        "<matplotlib.text.Text at 0xc1d0b90>"
       ]
      },
      {
       "metadata": {},
       "output_type": "display_data",
       "png": "[encoded data removed]",
       "text": [
        "<matplotlib.figure.Figure at 0xc1cef50>"
       ]
      }
     ],
     "prompt_number": 260
    },
    {
     "cell_type": "markdown",
     "metadata": {},
     "source": [
      "In order to calculate the mass of the molecular cloud, we need to measure its column density. Assuming the emission originates from an optically thin line, the column density equals to:\n",
      "\n",
      "$N=C \\frac{\\int T_B(V) dV}{1-e^{-B}}$\n",
      "\n",
      "where constants $C$ and $B$ are given by:\n",
      "\n",
      "$C=3\\times10^{14} (\\frac{\\nu}{\\nu_{13}})^2 \\frac{A_{13}}{A} {\\rm K^{-1} cm^{-2}}$\n",
      "\n",
      "$B=\\frac{h\\nu}{k_B T}$"
     ]
    },
    {
     "cell_type": "markdown",
     "metadata": {},
     "source": [
      "Let's first calculate constant C. The numerical constant was obtained for the emission from $^{13}$CO, so in order to use this relation for C$^{18}$O, we need to rescale the frequencies $\\nu$ and Einstein coefficients $A$. \n",
      "\n",
      "First, we look up the wavelength for these emission lines and store them in lambda quantities. "
     ]
    },
    {
     "cell_type": "code",
     "collapsed": false,
     "input": [
      "lambda13 = 2.60076 * u.mm\n",
      "lambda18 = 2.73079 * u.mm"
     ],
     "language": "python",
     "metadata": {},
     "outputs": [],
     "prompt_number": 262
    },
    {
     "cell_type": "markdown",
     "metadata": {},
     "source": [
      "Since the wavelength and frequency of light are related using the speed of light, we can convert between them. However, doing so just using the to() method fails, as units of length and frequency are not convertible:"
     ]
    },
    {
     "cell_type": "code",
     "collapsed": false,
     "input": [
      "nu13=lambda13.to(u.Hz)"
     ],
     "language": "python",
     "metadata": {},
     "outputs": [
      {
       "ename": "UnitsError",
       "evalue": "'mm' (length) and 'Hz' (frequency) are not convertible",
       "output_type": "pyerr",
       "traceback": [
        "\u001b[1;31m---------------------------------------------------------------------------\u001b[0m\n\u001b[1;31mUnitsError\u001b[0m                                Traceback (most recent call last)",
        "\u001b[1;32m<ipython-input-264-3c104facdcff>\u001b[0m in \u001b[0;36m<module>\u001b[1;34m()\u001b[0m\n\u001b[1;32m----> 1\u001b[1;33m \u001b[0mnu13\u001b[0m\u001b[1;33m=\u001b[0m\u001b[0mlambda13\u001b[0m\u001b[1;33m.\u001b[0m\u001b[0mto\u001b[0m\u001b[1;33m(\u001b[0m\u001b[0mu\u001b[0m\u001b[1;33m.\u001b[0m\u001b[0mHz\u001b[0m\u001b[1;33m)\u001b[0m\u001b[1;33m\u001b[0m\u001b[0m\n\u001b[0m",
        "\u001b[1;32m/usr/lib64/python2.7/site-packages/astropy/units/quantity.pyc\u001b[0m in \u001b[0;36mto\u001b[1;34m(self, unit, equivalencies)\u001b[0m\n\u001b[0;32m    429\u001b[0m         \u001b[0munit\u001b[0m \u001b[1;33m=\u001b[0m \u001b[0mUnit\u001b[0m\u001b[1;33m(\u001b[0m\u001b[0munit\u001b[0m\u001b[1;33m)\u001b[0m\u001b[1;33m\u001b[0m\u001b[0m\n\u001b[0;32m    430\u001b[0m         new_val = np.asarray(\n\u001b[1;32m--> 431\u001b[1;33m             self.unit.to(unit, self.value, equivalencies=equivalencies))\n\u001b[0m\u001b[0;32m    432\u001b[0m         \u001b[0mresult\u001b[0m \u001b[1;33m=\u001b[0m \u001b[0mself\u001b[0m\u001b[1;33m.\u001b[0m\u001b[0m__quantity_view__\u001b[0m\u001b[1;33m(\u001b[0m\u001b[0mnew_val\u001b[0m\u001b[1;33m,\u001b[0m \u001b[0munit\u001b[0m\u001b[1;33m)\u001b[0m\u001b[1;33m\u001b[0m\u001b[0m\n\u001b[0;32m    433\u001b[0m         \u001b[0mresult\u001b[0m\u001b[1;33m.\u001b[0m\u001b[0m_unit\u001b[0m \u001b[1;33m=\u001b[0m \u001b[0munit\u001b[0m\u001b[1;33m\u001b[0m\u001b[0m\n",
        "\u001b[1;32m/usr/lib64/python2.7/site-packages/astropy/units/core.pyc\u001b[0m in \u001b[0;36mto\u001b[1;34m(self, other, value, equivalencies)\u001b[0m\n\u001b[0;32m    909\u001b[0m             \u001b[0mIf\u001b[0m \u001b[0munits\u001b[0m \u001b[0mare\u001b[0m \u001b[0minconsistent\u001b[0m\u001b[1;33m\u001b[0m\u001b[0m\n\u001b[0;32m    910\u001b[0m         \"\"\"\n\u001b[1;32m--> 911\u001b[1;33m         \u001b[1;32mreturn\u001b[0m \u001b[0mself\u001b[0m\u001b[1;33m.\u001b[0m\u001b[0mget_converter\u001b[0m\u001b[1;33m(\u001b[0m\u001b[0mother\u001b[0m\u001b[1;33m,\u001b[0m \u001b[0mequivalencies\u001b[0m\u001b[1;33m=\u001b[0m\u001b[0mequivalencies\u001b[0m\u001b[1;33m)\u001b[0m\u001b[1;33m(\u001b[0m\u001b[0mvalue\u001b[0m\u001b[1;33m)\u001b[0m\u001b[1;33m\u001b[0m\u001b[0m\n\u001b[0m\u001b[0;32m    912\u001b[0m \u001b[1;33m\u001b[0m\u001b[0m\n\u001b[0;32m    913\u001b[0m     \u001b[1;32mdef\u001b[0m \u001b[0min_units\u001b[0m\u001b[1;33m(\u001b[0m\u001b[0mself\u001b[0m\u001b[1;33m,\u001b[0m \u001b[0mother\u001b[0m\u001b[1;33m,\u001b[0m \u001b[0mvalue\u001b[0m\u001b[1;33m=\u001b[0m\u001b[1;36m1.0\u001b[0m\u001b[1;33m,\u001b[0m \u001b[0mequivalencies\u001b[0m\u001b[1;33m=\u001b[0m\u001b[1;33m[\u001b[0m\u001b[1;33m]\u001b[0m\u001b[1;33m)\u001b[0m\u001b[1;33m:\u001b[0m\u001b[1;33m\u001b[0m\u001b[0m\n",
        "\u001b[1;32m/usr/lib64/python2.7/site-packages/astropy/units/core.pyc\u001b[0m in \u001b[0;36mget_converter\u001b[1;34m(self, other, equivalencies)\u001b[0m\n\u001b[0;32m    845\u001b[0m         \u001b[1;32mexcept\u001b[0m \u001b[0mUnitsError\u001b[0m\u001b[1;33m:\u001b[0m\u001b[1;33m\u001b[0m\u001b[0m\n\u001b[0;32m    846\u001b[0m             return self._apply_equivalences(\n\u001b[1;32m--> 847\u001b[1;33m                 self, other, self._normalize_equivalencies(equivalencies))\n\u001b[0m\u001b[0;32m    848\u001b[0m         \u001b[1;32mreturn\u001b[0m \u001b[1;32mlambda\u001b[0m \u001b[0mval\u001b[0m\u001b[1;33m:\u001b[0m \u001b[0mscale\u001b[0m \u001b[1;33m*\u001b[0m \u001b[0m_condition_arg\u001b[0m\u001b[1;33m(\u001b[0m\u001b[0mval\u001b[0m\u001b[1;33m)\u001b[0m\u001b[1;33m\u001b[0m\u001b[0m\n\u001b[0;32m    849\u001b[0m \u001b[1;33m\u001b[0m\u001b[0m\n",
        "\u001b[1;32m/usr/lib64/python2.7/site-packages/astropy/units/core.pyc\u001b[0m in \u001b[0;36m_apply_equivalences\u001b[1;34m(self, unit, other, equivalencies)\u001b[0m\n\u001b[0;32m    808\u001b[0m         raise UnitsError(\n\u001b[0;32m    809\u001b[0m             \"{0} and {1} are not convertible\".format(\n\u001b[1;32m--> 810\u001b[1;33m                 unit_str, other_str))\n\u001b[0m\u001b[0;32m    811\u001b[0m \u001b[1;33m\u001b[0m\u001b[0m\n\u001b[0;32m    812\u001b[0m     \u001b[1;32mdef\u001b[0m \u001b[0mget_converter\u001b[0m\u001b[1;33m(\u001b[0m\u001b[0mself\u001b[0m\u001b[1;33m,\u001b[0m \u001b[0mother\u001b[0m\u001b[1;33m,\u001b[0m \u001b[0mequivalencies\u001b[0m\u001b[1;33m=\u001b[0m\u001b[1;33m[\u001b[0m\u001b[1;33m]\u001b[0m\u001b[1;33m)\u001b[0m\u001b[1;33m:\u001b[0m\u001b[1;33m\u001b[0m\u001b[0m\n",
        "\u001b[1;31mUnitsError\u001b[0m: 'mm' (length) and 'Hz' (frequency) are not convertible"
       ]
      }
     ],
     "prompt_number": 264
    },
    {
     "cell_type": "markdown",
     "metadata": {},
     "source": [
      "However, astropy can relate different units using equivalencies. In this case, a unit function spectral() returns a list of equivalencies to handle conversions between wavelength and frequency. To use it, add equivalencies = u.spectral to the to() call:"
     ]
    },
    {
     "cell_type": "code",
     "collapsed": false,
     "input": [
      "nu13 = lambda13.to(u.Hz, equivalencies = u.spectral())\n",
      "nu18 = lambda18.to(u.Hz, equivalencies = u.spectral())"
     ],
     "language": "python",
     "metadata": {},
     "outputs": [],
     "prompt_number": 267
    },
    {
     "cell_type": "markdown",
     "metadata": {},
     "source": [
      "Next, we look up Einstein coefficients (in units of s$^{-1}$), and calculate the ratios in constant $C$. Note how the ratios of frequency and Einstein coefficient units are dimensionless, so the unit of $C$ is ${\\rm K^{-1} cm^{-2}}$."
     ]
    },
    {
     "cell_type": "code",
     "collapsed": false,
     "input": [
      "A13 = 7.4e-8 / u.s\n",
      "A18 = 8.8e-8 / u.s\n",
      "\n",
      "C = 3e14 * (nu18/nu13)**2 * (A13/A18) / (u.K * u.cm**2)\n",
      "C"
     ],
     "language": "python",
     "metadata": {},
     "outputs": [
      {
       "latex": [
        "$2.2882\\times 10^{+14} \\; \\mathrm{\\frac{1}{K\\,cm^{2}}}$"
       ],
       "metadata": {},
       "output_type": "pyout",
       "prompt_number": 268,
       "text": [
        "<Quantity 228820140923940.28 1 / (cm2 K)>"
       ]
      }
     ],
     "prompt_number": 268
    },
    {
     "cell_type": "markdown",
     "metadata": {},
     "source": [
      "Now we move on to calculate the constant $B$. This is given by the ratio of $\\frac{h\\nu}{k_B T}$, where $h$ is Planck's constant, $k_B$ is the Boltzmann's constant, $\\nu$ is the emission frequency, and $T$ is the excitation temperature. The constants were imported from astropy.constants, and the other two values are already calculated, so here we just take the ratio."
     ]
    },
    {
     "cell_type": "code",
     "collapsed": false,
     "input": [
      "B = h * nu18 / (k_B * Tex)"
     ],
     "language": "python",
     "metadata": {},
     "outputs": [],
     "prompt_number": 279
    },
    {
     "cell_type": "markdown",
     "metadata": {},
     "source": [
      "The units of $B$ are Hz s, which can be decomposed to a dimensionless unit. "
     ]
    },
    {
     "cell_type": "code",
     "collapsed": false,
     "input": [
      "print(\"\"\"{0}\n",
      "{1}\"\"\".format(B, B.decompose()))"
     ],
     "language": "python",
     "metadata": {},
     "outputs": [
      {
       "output_type": "stream",
       "stream": "stdout",
       "text": [
        "0.210748825063 Hz s\n",
        "0.210748825063 \n"
       ]
      }
     ],
     "prompt_number": 274
    },
    {
     "cell_type": "markdown",
     "metadata": {},
     "source": [
      "At this point we have all the ingredients to calculate the number density of CO molecules in this cloud. We evaluated the integral over velocities by summing up over the velocity channels, and multiplying by the width of the velocity bin. Finally, we perform a sum over all the pixels in the map to obtain the total column density (in units of cm$^{-2}$)."
     ]
    },
    {
     "cell_type": "code",
     "collapsed": false,
     "input": [
      "NCO = C * np.sum(intcloud) * dv / (1 - np.exp(-B))\n",
      "NCO"
     ],
     "language": "python",
     "metadata": {},
     "outputs": [
      {
       "latex": [
        "$6.82728\\times 10^{+18} \\; \\mathrm{\\frac{1}{cm^{2}}}$"
       ],
       "metadata": {},
       "output_type": "pyout",
       "prompt_number": 280,
       "text": [
        "<Quantity 6.827275471648166e+18 1 / cm2>"
       ]
      }
     ],
     "prompt_number": 280
    },
    {
     "cell_type": "markdown",
     "metadata": {},
     "source": [
      "The abundance of CO molecules scales with the abundance of much more numerous H$_2$ molecules. Since most of the mass is in H$_2$, we calculate its column density by multiplying with the H$_2$/CO ratio."
     ]
    },
    {
     "cell_type": "code",
     "collapsed": false,
     "input": [
      "H2_CO_ratio = 5.9e6\n",
      "NH2 = NCO * H2_CO_ratio\n",
      "NH2"
     ],
     "language": "python",
     "metadata": {},
     "outputs": [
      {
       "latex": [
        "$4.02809\\times 10^{+25} \\; \\mathrm{\\frac{1}{cm^{2}}}$"
       ],
       "metadata": {},
       "output_type": "pyout",
       "prompt_number": 277,
       "text": [
        "<Quantity 4.0280925282724174e+25 1 / cm2>"
       ]
      }
     ],
     "prompt_number": 277
    },
    {
     "cell_type": "markdown",
     "metadata": {},
     "source": [
      "We obtain the mass column density by multiplying the number column density with the mass of an individual H$_2$ molecule (here expressed in units of solar mass). "
     ]
    },
    {
     "cell_type": "code",
     "collapsed": false,
     "input": [
      "mH2 = 1.68e-57 * u.solMass\n",
      "rho = NH2 * mH2"
     ],
     "language": "python",
     "metadata": {},
     "outputs": [],
     "prompt_number": 278
    },
    {
     "cell_type": "markdown",
     "metadata": {},
     "source": [
      "A final step in going from the column density to mass is multiplying the density by the pixel area. First we calculate the pixel area by squaring the pixel width. This area is then in units of arc sec$^2$."
     ]
    },
    {
     "cell_type": "code",
     "collapsed": false,
     "input": [
      "dap = dx * dy\n",
      "print(dap)"
     ],
     "language": "python",
     "metadata": {},
     "outputs": [
      {
       "output_type": "stream",
       "stream": "stdout",
       "text": [
        "625 arcsec2\n"
       ]
      }
     ],
     "prompt_number": 283
    },
    {
     "cell_type": "markdown",
     "metadata": {},
     "source": [
      "However, we can convert this to radians, using dimensionless_angles() equivalency:"
     ]
    },
    {
     "cell_type": "code",
     "collapsed": false,
     "input": [
      "dap = (dx.to('', equivalencies=u.dimensionless_angles()) \n",
      "       * dy.to('', equivalencies=u.dimensionless_angles()))\n",
      "dap"
     ],
     "language": "python",
     "metadata": {},
     "outputs": [
      {
       "latex": [
        "$1.46903\\times 10^{-08} \\; \\mathrm{}$"
       ],
       "metadata": {},
       "output_type": "pyout",
       "prompt_number": 284,
       "text": [
        "<Quantity 1.4690269086936177e-08>"
       ]
      }
     ],
     "prompt_number": 284
    },
    {
     "cell_type": "markdown",
     "metadata": {},
     "source": [
      "The resulting area is dimensionless, and its value equals to the area in steradians. In the small angle approximation, multiplying the pixel area with the square of distance yields the physical area of the pixel (in correct units):"
     ]
    },
    {
     "cell_type": "code",
     "collapsed": false,
     "input": [
      "da = dap * d**2\n",
      "print(\"{0:.3e}\".format(da))"
     ],
     "language": "python",
     "metadata": {},
     "outputs": [
      {
       "output_type": "stream",
       "stream": "stdout",
       "text": [
        "9.181e-04 pc2\n"
       ]
      }
     ],
     "prompt_number": 290
    },
    {
     "cell_type": "markdown",
     "metadata": {},
     "source": [
      "Finally, multiplying the column density with the pixel area gives us the cloud mass."
     ]
    },
    {
     "cell_type": "code",
     "collapsed": false,
     "input": [
      "M = rho * da\n",
      "M.decompose().to(u.solMass)"
     ],
     "language": "python",
     "metadata": {},
     "outputs": [
      {
       "latex": [
        "$591.588 \\; \\mathrm{M_{\\odot}}$"
       ],
       "metadata": {},
       "output_type": "pyout",
       "prompt_number": 291,
       "text": [
        "<Quantity 591.5883031457405 solMass>"
       ]
      }
     ],
     "prompt_number": 291
    },
    {
     "cell_type": "code",
     "collapsed": false,
     "input": [],
     "language": "python",
     "metadata": {},
     "outputs": []
    }
   ],
   "metadata": {}
  }
 ]
}