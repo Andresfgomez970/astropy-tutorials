{
 "metadata": {
  "name": ""
 },
 "nbformat": 3,
 "nbformat_minor": 0,
 "worksheets": [
  {
   "cells": [
    {
     "cell_type": "heading",
     "level": 1,
     "metadata": {},
     "source": [
      "Quantities"
     ]
    },
    {
     "cell_type": "markdown",
     "metadata": {},
     "source": [
      "In initial setup, we will load standard libraries and set up plotting."
     ]
    },
    {
     "cell_type": "code",
     "collapsed": false,
     "input": [
      "#!/usr/bin/env python\n",
      "\n",
      "from __future__ import print_function\n",
      "\n",
      "import numpy as np\n",
      "import matplotlib as mpl\n",
      "import matplotlib.pyplot as plt\n",
      "from math import *\n",
      "\n",
      "# Reproducible results!|\n",
      "np.random.seed(12345)\n",
      "\n",
      "# Plotting setup\n",
      "%matplotlib inline\n",
      "txt=18\n",
      "mpl.rcParams['axes.labelsize'] = txt\n",
      "mpl.rcParams['xtick.labelsize'] = txt\n",
      "mpl.rcParams['ytick.labelsize'] = txt"
     ],
     "language": "python",
     "metadata": {},
     "outputs": [],
     "prompt_number": 10
    },
    {
     "cell_type": "markdown",
     "metadata": {},
     "source": [
      "In this tutorial, we'll also use astropy units, and load them as u. Astropy also has a constants module, where most of the physical constants are stored as quantities. Here, we'll only need the gravitational constant G."
     ]
    },
    {
     "cell_type": "code",
     "collapsed": false,
     "input": [
      "import astropy.units as u\n",
      "from astropy.constants import G"
     ],
     "language": "python",
     "metadata": {},
     "outputs": [],
     "prompt_number": 46
    },
    {
     "cell_type": "heading",
     "level": 2,
     "metadata": {},
     "source": [
      "1. Galaxy mass"
     ]
    },
    {
     "cell_type": "markdown",
     "metadata": {},
     "source": [
      "Let's assume that we measured the half light radius of the galaxy to be 29 pc, which we'll store in quantity R. We create a quantity object just by multiplying the value with its unit, in this case u.pc."
     ]
    },
    {
     "cell_type": "code",
     "collapsed": false,
     "input": [
      "R=29*u.pc"
     ],
     "language": "python",
     "metadata": {},
     "outputs": [],
     "prompt_number": 42
    },
    {
     "cell_type": "markdown",
     "metadata": {},
     "source": [
      "We can access the value and unit separately using the value and unit attributes."
     ]
    },
    {
     "cell_type": "code",
     "collapsed": false,
     "input": [
      "print(\"\"\"Half light radius\n",
      "value: {0}\n",
      "unit: {1}\"\"\".format(R.value,R.unit))"
     ],
     "language": "python",
     "metadata": {},
     "outputs": [
      {
       "output_type": "stream",
       "stream": "stdout",
       "text": [
        "Half light radius\n",
        "value: 29\n",
        "unit: pc\n"
       ]
      }
     ],
     "prompt_number": 44
    },
    {
     "cell_type": "markdown",
     "metadata": {},
     "source": [
      "Furthermore, we can convert the radius in parsecs to any other unit of length using the to() method. Here, we convert it to meters."
     ]
    },
    {
     "cell_type": "code",
     "collapsed": false,
     "input": [
      "print(\"{0:.3g}\".format(R.to(u.m)))"
     ],
     "language": "python",
     "metadata": {},
     "outputs": [
      {
       "output_type": "stream",
       "stream": "stdout",
       "text": [
        "8.95e+17 m\n"
       ]
      }
     ],
     "prompt_number": 45
    },
    {
     "cell_type": "markdown",
     "metadata": {},
     "source": [
      "Next, we will first create a synthetic dataset of radial velocity measurements, assuming a normal distribution with a mean velocity of 206 km/s and a velocity dispersion of 4.3 km/s."
     ]
    },
    {
     "cell_type": "code",
     "collapsed": false,
     "input": [
      "vmean=206\n",
      "sigin=4.3\n",
      "v=np.random.normal(vmean,sigin,500)*u.km/u.s"
     ],
     "language": "python",
     "metadata": {},
     "outputs": [],
     "prompt_number": 29
    },
    {
     "cell_type": "code",
     "collapsed": false,
     "input": [
      "print(\"\"\"First 10 radial velocity measurements: \n",
      "{0}\n",
      "{1}\"\"\".format(v[:10],v.to(u.m/u.s)[:10]))"
     ],
     "language": "python",
     "metadata": {},
     "outputs": [
      {
       "output_type": "stream",
       "stream": "stdout",
       "text": [
        "First 10 radial velocity measurements: \n",
        "[ 202.21589397  205.76793587  200.42985696  200.67960606  202.7859553\n",
        "  206.39858997  205.08242038  214.28583261  204.72581125  213.12290895] km / s\n",
        "[ 202215.89397262  205767.93587048  200429.85695994  200679.60606077\n",
        "  202785.95530064  206398.58996504  205082.42038185  214285.83261172\n",
        "  204725.81125127  213122.90895081] m / s\n"
       ]
      }
     ],
     "prompt_number": 30
    },
    {
     "cell_type": "code",
     "collapsed": false,
     "input": [
      "plt.hist(v,bins=20,histtype=\"step\")\n",
      "plt.xlabel(\"Velocity (km/s)\")\n",
      "plt.ylabel(\"N\")"
     ],
     "language": "python",
     "metadata": {},
     "outputs": [
      {
       "metadata": {},
       "output_type": "pyout",
       "prompt_number": 12,
       "text": [
        "<matplotlib.text.Text at 0x4358f90>"
       ]
      },
      {
       "metadata": {},
       "output_type": "display_data",
       "png": "[encoded data removed]",
       "text": [
        "<matplotlib.figure.Figure at 0x4349c10>"
       ]
      }
     ],
     "prompt_number": 12
    },
    {
     "cell_type": "markdown",
     "metadata": {},
     "source": [
      "Here we calculate the velocity dispersion of the system and show how one can perform basic operations with quantities (subtraction and division), and also use them in standard numpy functions, such as np.mean and np.size."
     ]
    },
    {
     "cell_type": "code",
     "collapsed": false,
     "input": [
      "sigma=np.sqrt(np.sum((v-np.mean(v))**2)/np.size(v))\n",
      "print(\"Velocity dispersion: {0:.2f}\".format(sigma))"
     ],
     "language": "python",
     "metadata": {},
     "outputs": [
      {
       "output_type": "stream",
       "stream": "stdout",
       "text": [
        "Velocity dispersion: 4.24 km / s\n"
       ]
      }
     ],
     "prompt_number": 34
    },
    {
     "cell_type": "markdown",
     "metadata": {},
     "source": [
      "Note how we needed to use numpy square root function, because the resulting velocity dispersion quantity is a numpy array. If we used the scalar sqrt instead, we get a TypeError."
     ]
    },
    {
     "cell_type": "code",
     "collapsed": false,
     "input": [
      "sigma_scalar=sqrt(np.sum((v-np.mean(v))**2)/np.size(v))"
     ],
     "language": "python",
     "metadata": {},
     "outputs": [
      {
       "ename": "TypeError",
       "evalue": "Only dimensionless scalar quantities can be converted to Python scalars",
       "output_type": "pyerr",
       "traceback": [
        "\u001b[1;31m---------------------------------------------------------------------------\u001b[0m\n\u001b[1;31mTypeError\u001b[0m                                 Traceback (most recent call last)",
        "\u001b[1;32m<ipython-input-33-18050a16f8ce>\u001b[0m in \u001b[0;36m<module>\u001b[1;34m()\u001b[0m\n\u001b[1;32m----> 1\u001b[1;33m \u001b[0msigma_scalar\u001b[0m\u001b[1;33m=\u001b[0m\u001b[0msqrt\u001b[0m\u001b[1;33m(\u001b[0m\u001b[0mnp\u001b[0m\u001b[1;33m.\u001b[0m\u001b[0msum\u001b[0m\u001b[1;33m(\u001b[0m\u001b[1;33m(\u001b[0m\u001b[0mv\u001b[0m\u001b[1;33m-\u001b[0m\u001b[0mnp\u001b[0m\u001b[1;33m.\u001b[0m\u001b[0mmean\u001b[0m\u001b[1;33m(\u001b[0m\u001b[0mv\u001b[0m\u001b[1;33m)\u001b[0m\u001b[1;33m)\u001b[0m\u001b[1;33m**\u001b[0m\u001b[1;36m2\u001b[0m\u001b[1;33m)\u001b[0m\u001b[1;33m/\u001b[0m\u001b[0mnp\u001b[0m\u001b[1;33m.\u001b[0m\u001b[0msize\u001b[0m\u001b[1;33m(\u001b[0m\u001b[0mv\u001b[0m\u001b[1;33m)\u001b[0m\u001b[1;33m)\u001b[0m\u001b[1;33m\u001b[0m\u001b[0m\n\u001b[0m",
        "\u001b[1;32m/usr/lib64/python2.7/site-packages/astropy/units/quantity.pyc\u001b[0m in \u001b[0;36m__float__\u001b[1;34m(self)\u001b[0m\n\u001b[0;32m    730\u001b[0m     \u001b[1;32mdef\u001b[0m \u001b[0m__float__\u001b[0m\u001b[1;33m(\u001b[0m\u001b[0mself\u001b[0m\u001b[1;33m)\u001b[0m\u001b[1;33m:\u001b[0m\u001b[1;33m\u001b[0m\u001b[0m\n\u001b[0;32m    731\u001b[0m         \u001b[1;32mif\u001b[0m \u001b[1;32mnot\u001b[0m \u001b[0mself\u001b[0m\u001b[1;33m.\u001b[0m\u001b[0misscalar\u001b[0m \u001b[1;32mor\u001b[0m \u001b[1;32mnot\u001b[0m \u001b[0mself\u001b[0m\u001b[1;33m.\u001b[0m\u001b[0munit\u001b[0m\u001b[1;33m.\u001b[0m\u001b[0mis_unity\u001b[0m\u001b[1;33m(\u001b[0m\u001b[1;33m)\u001b[0m\u001b[1;33m:\u001b[0m\u001b[1;33m\u001b[0m\u001b[0m\n\u001b[1;32m--> 732\u001b[1;33m             raise TypeError('Only dimensionless scalar quantities can be '\n\u001b[0m\u001b[0;32m    733\u001b[0m                             'converted to Python scalars')\n\u001b[0;32m    734\u001b[0m         \u001b[1;32melse\u001b[0m\u001b[1;33m:\u001b[0m\u001b[1;33m\u001b[0m\u001b[0m\n",
        "\u001b[1;31mTypeError\u001b[0m: Only dimensionless scalar quantities can be converted to Python scalars"
       ]
      }
     ],
     "prompt_number": 33
    },
    {
     "cell_type": "markdown",
     "metadata": {},
     "source": [
      "Galaxy mass can be calculated using the virial theorem: $M=3\\sigma^2 R_{1/2}/G$, where the factor of 3 accounts for all 3 dimensions. Just multiplying the quantities we get mass in a composite unit."
     ]
    },
    {
     "cell_type": "code",
     "collapsed": false,
     "input": [
      "M=3*R*sigma**2/G\n",
      "M"
     ],
     "language": "python",
     "metadata": {},
     "outputs": [
      {
       "latex": [
        "$2.34869\\times 10^{+13} \\; \\mathrm{\\frac{km^{2}\\,kg\\,pc}{m^{3}}}$"
       ],
       "metadata": {},
       "output_type": "pyout",
       "prompt_number": 40,
       "text": [
        "<Quantity 23486923184239.035 kg km2 pc / m3>"
       ]
      }
     ],
     "prompt_number": 40
    },
    {
     "cell_type": "markdown",
     "metadata": {},
     "source": [
      "However, it can be decomposed to cancel all of the length units ($km^2 pc/m^3$) using the decompose() method."
     ]
    },
    {
     "cell_type": "code",
     "collapsed": false,
     "input": [
      "M.decompose()"
     ],
     "language": "python",
     "metadata": {},
     "outputs": [
      {
       "latex": [
        "$7.24731\\times 10^{+35} \\; \\mathrm{kg}$"
       ],
       "metadata": {},
       "output_type": "pyout",
       "prompt_number": 41,
       "text": [
        "<Quantity 7.247307232724841e+35 kg>"
       ]
      }
     ],
     "prompt_number": 41
    },
    {
     "cell_type": "markdown",
     "metadata": {},
     "source": [
      "We can also express the mass in the units of solar mass, or the default SI and CGS units."
     ]
    },
    {
     "cell_type": "code",
     "collapsed": false,
     "input": [
      "print(\"\"\"Galaxy mass\n",
      "astronomical units: {0:.3g}\n",
      "SI units: {1:.3g}\n",
      "CGS units: {2:.3g}\"\"\".format(M.to(u.Msun), M.si, M.cgs))"
     ],
     "language": "python",
     "metadata": {},
     "outputs": [
      {
       "output_type": "stream",
       "stream": "stdout",
       "text": [
        "Galaxy mass\n",
        "astronomical units: 3.64e+05 solMass\n",
        "SI units: 7.25e+35 kg\n",
        "CGS units: 7.25e+38 g\n"
       ]
      }
     ],
     "prompt_number": 38
    },
    {
     "cell_type": "code",
     "collapsed": false,
     "input": [],
     "language": "python",
     "metadata": {},
     "outputs": []
    }
   ],
   "metadata": {}
  }
 ]
}