{
 "metadata": {
  "name": ""
 },
 "nbformat": 3,
 "nbformat_minor": 0,
 "worksheets": [
  {
   "cells": [
    {
     "cell_type": "heading",
     "level": 1,
     "metadata": {},
     "source": [
      "Quantities"
     ]
    },
    {
     "cell_type": "markdown",
     "metadata": {},
     "source": [
      "In this tutorial we show how one might use astropy quantities when calculating masses of galaxies from velocity dispersion and masses of molecular clouds from CO intensity maps."
     ]
    },
    {
     "cell_type": "markdown",
     "metadata": {},
     "source": [
      "During the initial setup, we will load standard libraries and set up plotting."
     ]
    },
    {
     "cell_type": "code",
     "collapsed": false,
     "input": [
      "#!/usr/bin/env python\n",
      "\n",
      "from __future__ import print_function, division\n",
      "\n",
      "import numpy as np\n",
      "import matplotlib as mpl\n",
      "import matplotlib.pyplot as plt\n",
      "import math\n",
      "\n",
      "# Reproducible results!|\n",
      "np.random.seed(12345)\n",
      "\n",
      "# Plotting setup\n",
      "%matplotlib inline\n",
      "txt = 18\n",
      "mpl.rcParams['axes.labelsize'] = txt\n",
      "mpl.rcParams['xtick.labelsize'] = txt\n",
      "mpl.rcParams['ytick.labelsize'] = txt"
     ],
     "language": "python",
     "metadata": {},
     "outputs": []
    },
    {
     "cell_type": "markdown",
     "metadata": {},
     "source": [
      "It is conventional to load astropy units as u. Astropy also has a constants module, where most of the physical constants are stored as quantities. Here, we'll only need the gravitational constant G."
     ]
    },
    {
     "cell_type": "code",
     "collapsed": false,
     "input": [
      "import astropy.units as u\n",
      "from astropy.constants import G, h, k_B"
     ],
     "language": "python",
     "metadata": {},
     "outputs": []
    },
    {
     "cell_type": "heading",
     "level": 2,
     "metadata": {},
     "source": [
      "1. Galaxy mass"
     ]
    },
    {
     "cell_type": "markdown",
     "metadata": {},
     "source": [
      "Let's assume that we measured the half light radius of the galaxy to be 29 pc, which we'll store in quantity R. We create a quantity object just by multiplying the value with its unit. Units are accessed as u.\"unit\", in this case u.pc."
     ]
    },
    {
     "cell_type": "code",
     "collapsed": false,
     "input": [
      "R=29*u.pc"
     ],
     "language": "python",
     "metadata": {},
     "outputs": []
    },
    {
     "cell_type": "markdown",
     "metadata": {},
     "source": [
      "We can access the value and unit separately using the value and unit attributes."
     ]
    },
    {
     "cell_type": "code",
     "collapsed": false,
     "input": [
      "print(\"\"\"Half light radius\n",
      "value: {0}\n",
      "unit: {1}\"\"\".format(R.value, R.unit))"
     ],
     "language": "python",
     "metadata": {},
     "outputs": []
    },
    {
     "cell_type": "markdown",
     "metadata": {},
     "source": [
      "Furthermore, we can convert the radius in parsecs to any other unit of length using the to() method. Here, we convert it to meters."
     ]
    },
    {
     "cell_type": "code",
     "collapsed": false,
     "input": [
      "print(\"{0:.3g}\".format(R.to(u.m)))"
     ],
     "language": "python",
     "metadata": {},
     "outputs": []
    },
    {
     "cell_type": "markdown",
     "metadata": {},
     "source": [
      "Next, we will first create a synthetic dataset of radial velocity measurements, assuming a normal distribution with a mean velocity of 206 km/s and a velocity dispersion of 4.3 km/s."
     ]
    },
    {
     "cell_type": "code",
     "collapsed": false,
     "input": [
      "vmean=206\n",
      "sigin=4.3\n",
      "v=np.random.normal(vmean, sigin, 500)*u.km/u.s"
     ],
     "language": "python",
     "metadata": {},
     "outputs": []
    },
    {
     "cell_type": "code",
     "collapsed": false,
     "input": [
      "print(\"\"\"First 10 radial velocity measurements: \n",
      "{0}\n",
      "{1}\"\"\".format(v[:10], v.to(u.m/u.s)[:10]))"
     ],
     "language": "python",
     "metadata": {},
     "outputs": []
    },
    {
     "cell_type": "code",
     "collapsed": false,
     "input": [
      "plt.hist(v, bins=20, histtype=\"step\")\n",
      "plt.xlabel(\"Velocity (km/s)\")\n",
      "plt.ylabel(\"N\")"
     ],
     "language": "python",
     "metadata": {},
     "outputs": []
    },
    {
     "cell_type": "markdown",
     "metadata": {},
     "source": [
      "Here we calculate the velocity dispersion of the system and show how one can perform basic operations with quantities (subtraction and division), and also use them in standard numpy functions, such as np.mean and np.size."
     ]
    },
    {
     "cell_type": "code",
     "collapsed": false,
     "input": [
      "sigma=np.sqrt(np.sum((v-np.mean(v))**2)/np.size(v))\n",
      "print(\"Velocity dispersion: {0:.2f}\".format(sigma))"
     ],
     "language": "python",
     "metadata": {},
     "outputs": []
    },
    {
     "cell_type": "markdown",
     "metadata": {},
     "source": [
      "Note how we needed to use numpy square root function, because the resulting velocity dispersion quantity is a numpy array. If we used the scalar sqrt instead, we get a TypeError."
     ]
    },
    {
     "cell_type": "code",
     "collapsed": false,
     "input": [
      "sigma_scalar=math.sqrt(np.sum((v-np.mean(v))**2)/np.size(v))"
     ],
     "language": "python",
     "metadata": {},
     "outputs": []
    },
    {
     "cell_type": "markdown",
     "metadata": {},
     "source": [
      "Galaxy mass can be calculated using the virial theorem: $M=3\\sigma^2 R_{1/2}/G$, where the factor of 3 accounts for all 3 dimensions. Just multiplying the quantities we get mass in a composite unit."
     ]
    },
    {
     "cell_type": "code",
     "collapsed": false,
     "input": [
      "M=3*R*sigma**2/G\n",
      "M"
     ],
     "language": "python",
     "metadata": {},
     "outputs": []
    },
    {
     "cell_type": "markdown",
     "metadata": {},
     "source": [
      "However, it can be decomposed to cancel all of the length units ($km^2 pc/m^3$) using the decompose() method."
     ]
    },
    {
     "cell_type": "code",
     "collapsed": false,
     "input": [
      "M.decompose()"
     ],
     "language": "python",
     "metadata": {},
     "outputs": []
    },
    {
     "cell_type": "markdown",
     "metadata": {},
     "source": [
      "We can also express the mass in the units of solar mass, or the default SI and CGS units."
     ]
    },
    {
     "cell_type": "code",
     "collapsed": false,
     "input": [
      "print(\"\"\"Galaxy mass\n",
      "astronomical units: {0:.3g}\n",
      "SI units: {1:.3g}\n",
      "CGS units: {2:.3g}\"\"\".format(M.to(u.Msun), M.si, M.cgs))"
     ],
     "language": "python",
     "metadata": {},
     "outputs": []
    },
    {
     "cell_type": "heading",
     "level": 2,
     "metadata": {},
     "source": [
      "2. Molecular cloud mass"
     ]
    },
    {
     "cell_type": "markdown",
     "metadata": {},
     "source": [
      "Let's assume that we mapped inner part of a molecular cloud using C$^{18}$O and are interested in measuring its total mass. The measurement resulted in a data cube where the dimensions are RA, Dec and velocity, and the values are brightness temperature. Furthermore, we will assume that we have an independent measurement of distance to the cloud $d=250$ pc and that the excitation temperature is constant throughout the cloud $T_{ex}=25$ K."
     ]
    },
    {
     "cell_type": "code",
     "collapsed": false,
     "input": [
      "d = 250*u.pc\n",
      "Tex = 25*u.K"
     ],
     "language": "python",
     "metadata": {},
     "outputs": []
    },
    {
     "cell_type": "markdown",
     "metadata": {},
     "source": [
      "For simplicity, we will generate a synthetic dataset, assuming the cloud is a 3D Gaussian in RA, Dec and velocity coordinates. We start by creating a 100x100x300 numpy array, such that the first coordinate is right ascension, the second is declination, and the third is velocity. The cloud is positioned at the center of the cube, and its spread is determined by the $s_i$ parameters."
     ]
    },
    {
     "cell_type": "code",
     "collapsed": false,
     "input": [
      "# Define data cube\n",
      "nx = ny = 100\n",
      "nz = 300\n",
      "data = np.zeros((nx, ny, nz))\n",
      "\n",
      "# Position of the cloud center\n",
      "xc = yc = 50\n",
      "zc = 150\n",
      "\n",
      "# Cloud dispersion\n",
      "sx = 12\n",
      "sy = 10\n",
      "sz = 30\n",
      "\n",
      "# Create the cloud (3D Gaussian)\n",
      "for i in range(nx):\n",
      "    for j in range(ny):\n",
      "        for k in range(nz):\n",
      "            data[i][j][k] = math.exp( - 0.5*((i-xc)/sx)**2 - 0.5*((j-yc)/sy)**2 - 0.5*((k-zc)/sz)**2 )"
     ],
     "language": "python",
     "metadata": {},
     "outputs": []
    },
    {
     "cell_type": "markdown",
     "metadata": {},
     "source": [
      "Next we create a quantity array with the units of K/(km/s) by multiplying the numpy data cube by the corresponding units:"
     ]
    },
    {
     "cell_type": "code",
     "collapsed": false,
     "input": [
      "qdata = data * (u.K/(u.km/u.s))"
     ],
     "language": "python",
     "metadata": {},
     "outputs": []
    },
    {
     "cell_type": "markdown",
     "metadata": {},
     "source": [
      "The span of the data cube in the sky coordinates is given by $x_i$ and $x_f$. Furthermore, pixel size is given by $dx$, $dy$ and $dv$."
     ]
    },
    {
     "cell_type": "code",
     "collapsed": false,
     "input": [
      "# Sky coordinates\n",
      "rai = 52 * u.deg\n",
      "raf = 52.5 * u.deg\n",
      "deci = 30 * u.deg\n",
      "decf = 30.5 * u.deg\n",
      "\n",
      "# Pixel sizes\n",
      "dx = dy = 25 * u.arcsec\n",
      "dv = 0.1 * u.km/u.s"
     ],
     "language": "python",
     "metadata": {},
     "outputs": []
    },
    {
     "cell_type": "markdown",
     "metadata": {},
     "source": [
      "We are interested in the integrated intensity over all of the velocity channels, so we will created a 2D quantity array by summing our data cube along the velocity axis. The resulting quantity preserves the correct units."
     ]
    },
    {
     "cell_type": "code",
     "collapsed": false,
     "input": [
      "intcloud = np.sum(qdata, axis=2)\n",
      "intcloud.unit"
     ],
     "language": "python",
     "metadata": {},
     "outputs": []
    },
    {
     "cell_type": "markdown",
     "metadata": {},
     "source": [
      "We can plot the 2D quantity using matplotlib's imshow function, by passing the quantity's value. Similarly, we can set the correct extent using the values of $x_i$ and $x_f$. Finally, we can set the colorbar label to have proper units."
     ]
    },
    {
     "cell_type": "code",
     "collapsed": false,
     "input": [
      "plt.imshow(intcloud.value, origin='lower', extent=[rai.value, raf.value, deci.value, decf.value], cmap='hot', interpolation='nearest', aspect='equal')\n",
      "plt.colorbar().set_label(\"Intensity ({})\".format(intcloud.unit))\n",
      "plt.xlabel(\"RA (deg)\")\n",
      "plt.ylabel(\"Dec (deg)\")"
     ],
     "language": "python",
     "metadata": {},
     "outputs": []
    },
    {
     "cell_type": "markdown",
     "metadata": {},
     "source": [
      "In order to calculate the mass of the molecular cloud, we need to measure its column density. Assuming the emission originates from an optically thin line, the column density equals to:\n",
      "\n",
      "$N=C \\frac{\\int T_B(V) dV}{1-e^{-B}}$\n",
      "\n",
      "where constants $C$ and $B$ are given by:\n",
      "\n",
      "$C=3\\times10^{14} (\\frac{\\nu}{\\nu_{13}})^2 \\frac{A_{13}}{A} {\\rm K^{-1} cm^{-2}}$\n",
      "\n",
      "$B=\\frac{h\\nu}{k_B T}$"
     ]
    },
    {
     "cell_type": "markdown",
     "metadata": {},
     "source": [
      "Let's first calculate constant C. The numerical constant was obtained for the emission from $^{13}$CO, so in order to use this relation for C$^{18}$O, we need to rescale the frequencies $\\nu$ and Einstein coefficients $A$. \n",
      "\n",
      "First, we look up the wavelength for these emission lines and store them in lambda quantities. "
     ]
    },
    {
     "cell_type": "code",
     "collapsed": false,
     "input": [
      "lambda13 = 2.60076 * u.mm\n",
      "lambda18 = 2.73079 * u.mm"
     ],
     "language": "python",
     "metadata": {},
     "outputs": []
    },
    {
     "cell_type": "markdown",
     "metadata": {},
     "source": [
      "Since the wavelength and frequency of light are related using the speed of light, we can convert between them. However, doing so just using the to() method fails, as units of length and frequency are not convertible:"
     ]
    },
    {
     "cell_type": "code",
     "collapsed": false,
     "input": [
      "nu13=lambda13.to(u.Hz)"
     ],
     "language": "python",
     "metadata": {},
     "outputs": []
    },
    {
     "cell_type": "markdown",
     "metadata": {},
     "source": [
      "However, astropy can relate different units using equivalencies. In this case, a unit function spectral() returns a list of equivalencies to handle conversions between wavelength and frequency. To use it, add equivalencies = u.spectral to the to() call:"
     ]
    },
    {
     "cell_type": "code",
     "collapsed": false,
     "input": [
      "nu13 = lambda13.to(u.Hz, equivalencies = u.spectral())\n",
      "nu18 = lambda18.to(u.Hz, equivalencies = u.spectral())"
     ],
     "language": "python",
     "metadata": {},
     "outputs": []
    },
    {
     "cell_type": "markdown",
     "metadata": {},
     "source": [
      "Next, we look up Einstein coefficients (in units of s$^{-1}$), and calculate the ratios in constant $C$. Note how the ratios of frequency and Einstein coefficient units are dimensionless, so the unit of $C$ is ${\\rm K^{-1} cm^{-2}}$."
     ]
    },
    {
     "cell_type": "code",
     "collapsed": false,
     "input": [
      "A13 = 7.4e-8 / u.s\n",
      "A18 = 8.8e-8 / u.s\n",
      "\n",
      "C = 3e14 * (nu18/nu13)**2 * (A13/A18) / (u.K * u.cm**2)\n",
      "C"
     ],
     "language": "python",
     "metadata": {},
     "outputs": []
    },
    {
     "cell_type": "markdown",
     "metadata": {},
     "source": [
      "Now we move on to calculate the constant $B$. This is given by the ratio of $\\frac{h\\nu}{k_B T}$, where $h$ is Planck's constant, $k_B$ is the Boltzmann's constant, $\\nu$ is the emission frequency, and $T$ is the excitation temperature. The constants were imported from astropy.constants, and the other two values are already calculated, so here we just take the ratio."
     ]
    },
    {
     "cell_type": "code",
     "collapsed": false,
     "input": [
      "B = h * nu18 / (k_B * Tex)"
     ],
     "language": "python",
     "metadata": {},
     "outputs": []
    },
    {
     "cell_type": "markdown",
     "metadata": {},
     "source": [
      "The units of $B$ are Hz s, which can be decomposed to a dimensionless unit. "
     ]
    },
    {
     "cell_type": "code",
     "collapsed": false,
     "input": [
      "print(\"\"\"{0}\n",
      "{1}\"\"\".format(B, B.decompose()))"
     ],
     "language": "python",
     "metadata": {},
     "outputs": []
    },
    {
     "cell_type": "markdown",
     "metadata": {},
     "source": [
      "At this point we have all the ingredients to calculate the number density of CO molecules in this cloud. We evaluated the integral over velocities by summing up over the velocity channels, and multiplying by the width of the velocity bin. Finally, we perform a sum over all the pixels in the map to obtain the total column density (in units of cm$^{-2}$)."
     ]
    },
    {
     "cell_type": "code",
     "collapsed": false,
     "input": [
      "NCO = C * np.sum(intcloud) * dv / (1 - np.exp(-B))\n",
      "NCO"
     ],
     "language": "python",
     "metadata": {},
     "outputs": []
    },
    {
     "cell_type": "markdown",
     "metadata": {},
     "source": [
      "The abundance of CO molecules scales with the abundance of much more numerous H$_2$ molecules. Since most of the mass is in H$_2$, we calculate its column density by multiplying with the H$_2$/CO ratio."
     ]
    },
    {
     "cell_type": "code",
     "collapsed": false,
     "input": [
      "H2_CO_ratio = 5.9e6\n",
      "NH2 = NCO * H2_CO_ratio\n",
      "NH2"
     ],
     "language": "python",
     "metadata": {},
     "outputs": []
    },
    {
     "cell_type": "markdown",
     "metadata": {},
     "source": [
      "We obtain the mass column density by multiplying the number column density with the mass of an individual H$_2$ molecule (here expressed in units of solar mass). "
     ]
    },
    {
     "cell_type": "code",
     "collapsed": false,
     "input": [
      "mH2 = 1.68e-57 * u.solMass\n",
      "rho = NH2 * mH2"
     ],
     "language": "python",
     "metadata": {},
     "outputs": []
    },
    {
     "cell_type": "markdown",
     "metadata": {},
     "source": [
      "A final step in going from the column density to mass is multiplying the density by the pixel area. First we calculate the pixel area by squaring the pixel width. This area is then in units of arc sec$^2$."
     ]
    },
    {
     "cell_type": "code",
     "collapsed": false,
     "input": [
      "dap = dx * dy\n",
      "print(dap)"
     ],
     "language": "python",
     "metadata": {},
     "outputs": []
    },
    {
     "cell_type": "markdown",
     "metadata": {},
     "source": [
      "However, we can convert this to radians, using dimensionless_angles() equivalency:"
     ]
    },
    {
     "cell_type": "code",
     "collapsed": false,
     "input": [
      "dap = (dx.to('', equivalencies=u.dimensionless_angles()) \n",
      "       * dy.to('', equivalencies=u.dimensionless_angles()))\n",
      "dap"
     ],
     "language": "python",
     "metadata": {},
     "outputs": []
    },
    {
     "cell_type": "markdown",
     "metadata": {},
     "source": [
      "The resulting area is dimensionless, and its value equals to the area in steradians. In the small angle approximation, multiplying the pixel area with the square of distance yields the physical area of the pixel (in correct units):"
     ]
    },
    {
     "cell_type": "code",
     "collapsed": false,
     "input": [
      "da = dap * d**2\n",
      "print(\"{0:.3e}\".format(da))"
     ],
     "language": "python",
     "metadata": {},
     "outputs": []
    },
    {
     "cell_type": "markdown",
     "metadata": {},
     "source": [
      "Finally, multiplying the column density with the pixel area gives us the cloud mass."
     ]
    },
    {
     "cell_type": "code",
     "collapsed": false,
     "input": [
      "M = rho * da\n",
      "M.decompose().to(u.solMass)"
     ],
     "language": "python",
     "metadata": {},
     "outputs": []
    },
    {
     "cell_type": "code",
     "collapsed": false,
     "input": [],
     "language": "python",
     "metadata": {},
     "outputs": []
    }
   ],
   "metadata": {}
  }
 ]
}